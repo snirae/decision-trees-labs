{
  "cells": [
    {
      "cell_type": "markdown",
      "metadata": {
        "id": "vutmzGaGDRVg"
      },
      "source": [
        "# Lab 3 - Regression Tree and Kaggle competition"
      ]
    },
    {
      "cell_type": "markdown",
      "metadata": {
        "id": "CJAW8qGaDcoZ"
      },
      "source": [
        "In this lab you will participate in a Kaggle competition:\n",
        "\n",
        "https://www.kaggle.com/t/1552d52d5bbc474da5e024b385b9fe9e\n",
        "\n",
        "In this competition you will train and test a **decision tree regressor** while choosing how to preprocess the data and model's parameters.\n",
        "\n",
        "First, click the link and join the competition."
      ]
    },
    {
      "cell_type": "markdown",
      "metadata": {
        "id": "2uGkjXenECR4"
      },
      "source": [
        "using 'kaggle.json' file from the first lab, load the competition's data:\n",
        "\n",
        "(remember to upload it to your environment)\n",
        "\n",
        "You suppose to have 3 files:\n",
        "\n",
        "\n",
        "```\n",
        "sample_submission.csv\n",
        "test_set.csv\n",
        "train_set.csv - which is an example file to your submission\n",
        "```\n",
        "\n"
      ]
    },
    {
      "cell_type": "code",
      "execution_count": 1,
      "metadata": {
        "colab": {
          "base_uri": "https://localhost:8080/"
        },
        "id": "4eRd0G-wDOmi",
        "outputId": "59ddf484-5f0f-4983-b9a0-96d621390a03"
      },
      "outputs": [
        {
          "name": "stdout",
          "output_type": "stream",
          "text": [
            "Downloading decision-trees-lab-3-2023.zip to /content\n",
            "\r  0% 0.00/4.97M [00:00<?, ?B/s]\n",
            "\r100% 4.97M/4.97M [00:00<00:00, 154MB/s]\n",
            "Archive:  decision-trees-lab-3-2023.zip\n",
            "  inflating: sample_submission.csv   \n",
            "  inflating: test_set.csv            \n",
            "  inflating: train_set.csv           \n"
          ]
        }
      ],
      "source": [
        "! mkdir ~/.kaggle\n",
        "! cp kaggle.json ~/.kaggle/\n",
        "! chmod 600 ~/.kaggle/kaggle.json\n",
        "! kaggle competitions download -c decision-trees-lab-3-2023\n",
        "! unzip decision-trees-lab-3-2023.zip\n"
      ]
    },
    {
      "cell_type": "markdown",
      "metadata": {
        "id": "6kgK1wqiFWOI"
      },
      "source": [
        "## Task 1:\n",
        "Load the train set and decide how to preprocess it.\n",
        "\n",
        "Think about missing values, redundant features, categorical values, normalization ect.\n",
        "\n"
      ]
    },
    {
      "cell_type": "code",
      "execution_count": 2,
      "metadata": {
        "colab": {
          "base_uri": "https://localhost:8080/",
          "height": 405
        },
        "id": "FDT8jvvg2582",
        "outputId": "b1f8bc5b-0f5f-4fec-e32f-858651ed9bd3"
      },
      "outputs": [
        {
          "data": {
            "text/html": [
              "\n",
              "  <div id=\"df-d09b24cf-aa4c-4ad9-90b0-11a991faed53\">\n",
              "    <div class=\"colab-df-container\">\n",
              "      <div>\n",
              "<style scoped>\n",
              "    .dataframe tbody tr th:only-of-type {\n",
              "        vertical-align: middle;\n",
              "    }\n",
              "\n",
              "    .dataframe tbody tr th {\n",
              "        vertical-align: top;\n",
              "    }\n",
              "\n",
              "    .dataframe thead th {\n",
              "        text-align: right;\n",
              "    }\n",
              "</style>\n",
              "<table border=\"1\" class=\"dataframe\">\n",
              "  <thead>\n",
              "    <tr style=\"text-align: right;\">\n",
              "      <th></th>\n",
              "      <th>airline</th>\n",
              "      <th>flight</th>\n",
              "      <th>source_city</th>\n",
              "      <th>departure_time</th>\n",
              "      <th>stops</th>\n",
              "      <th>arrival_time</th>\n",
              "      <th>destination_city</th>\n",
              "      <th>class</th>\n",
              "      <th>duration</th>\n",
              "      <th>days_left</th>\n",
              "      <th>price</th>\n",
              "    </tr>\n",
              "    <tr>\n",
              "      <th>index</th>\n",
              "      <th></th>\n",
              "      <th></th>\n",
              "      <th></th>\n",
              "      <th></th>\n",
              "      <th></th>\n",
              "      <th></th>\n",
              "      <th></th>\n",
              "      <th></th>\n",
              "      <th></th>\n",
              "      <th></th>\n",
              "      <th></th>\n",
              "    </tr>\n",
              "  </thead>\n",
              "  <tbody>\n",
              "    <tr>\n",
              "      <th>179791</th>\n",
              "      <td>Vistara</td>\n",
              "      <td>UK-876</td>\n",
              "      <td>Hyderabad</td>\n",
              "      <td>Night</td>\n",
              "      <td>one</td>\n",
              "      <td>Morning</td>\n",
              "      <td>Chennai</td>\n",
              "      <td>Economy</td>\n",
              "      <td>14.25</td>\n",
              "      <td>41</td>\n",
              "      <td>6287</td>\n",
              "    </tr>\n",
              "    <tr>\n",
              "      <th>94264</th>\n",
              "      <td>GO_FIRST</td>\n",
              "      <td>G8-116</td>\n",
              "      <td>Bangalore</td>\n",
              "      <td>Early_Morning</td>\n",
              "      <td>one</td>\n",
              "      <td>Night</td>\n",
              "      <td>Mumbai</td>\n",
              "      <td>Economy</td>\n",
              "      <td>13.83</td>\n",
              "      <td>3</td>\n",
              "      <td>5177</td>\n",
              "    </tr>\n",
              "    <tr>\n",
              "      <th>140559</th>\n",
              "      <td>Vistara</td>\n",
              "      <td>UK-738</td>\n",
              "      <td>Kolkata</td>\n",
              "      <td>Evening</td>\n",
              "      <td>one</td>\n",
              "      <td>Night</td>\n",
              "      <td>Bangalore</td>\n",
              "      <td>Economy</td>\n",
              "      <td>25.67</td>\n",
              "      <td>36</td>\n",
              "      <td>8111</td>\n",
              "    </tr>\n",
              "    <tr>\n",
              "      <th>213532</th>\n",
              "      <td>Air_India</td>\n",
              "      <td>AI-665</td>\n",
              "      <td>Delhi</td>\n",
              "      <td>Early_Morning</td>\n",
              "      <td>one</td>\n",
              "      <td>Morning</td>\n",
              "      <td>Bangalore</td>\n",
              "      <td>Business</td>\n",
              "      <td>27.17</td>\n",
              "      <td>21</td>\n",
              "      <td>42457</td>\n",
              "    </tr>\n",
              "    <tr>\n",
              "      <th>6230</th>\n",
              "      <td>Indigo</td>\n",
              "      <td>6E-2097</td>\n",
              "      <td>Delhi</td>\n",
              "      <td>Early_Morning</td>\n",
              "      <td>one</td>\n",
              "      <td>Afternoon</td>\n",
              "      <td>Mumbai</td>\n",
              "      <td>Economy</td>\n",
              "      <td>7.58</td>\n",
              "      <td>32</td>\n",
              "      <td>2410</td>\n",
              "    </tr>\n",
              "    <tr>\n",
              "      <th>24656</th>\n",
              "      <td>Indigo</td>\n",
              "      <td>6E-2043</td>\n",
              "      <td>Delhi</td>\n",
              "      <td>Afternoon</td>\n",
              "      <td>one</td>\n",
              "      <td>Evening</td>\n",
              "      <td>Kolkata</td>\n",
              "      <td>Economy</td>\n",
              "      <td>4.17</td>\n",
              "      <td>27</td>\n",
              "      <td>4257</td>\n",
              "    </tr>\n",
              "    <tr>\n",
              "      <th>208126</th>\n",
              "      <td>Vistara</td>\n",
              "      <td>UK-879</td>\n",
              "      <td>Delhi</td>\n",
              "      <td>Evening</td>\n",
              "      <td>one</td>\n",
              "      <td>Night</td>\n",
              "      <td>Mumbai</td>\n",
              "      <td>Business</td>\n",
              "      <td>5.33</td>\n",
              "      <td>15</td>\n",
              "      <td>45156</td>\n",
              "    </tr>\n",
              "    <tr>\n",
              "      <th>43333</th>\n",
              "      <td>Vistara</td>\n",
              "      <td>UK-771</td>\n",
              "      <td>Mumbai</td>\n",
              "      <td>Early_Morning</td>\n",
              "      <td>one</td>\n",
              "      <td>Morning</td>\n",
              "      <td>Delhi</td>\n",
              "      <td>Economy</td>\n",
              "      <td>26.58</td>\n",
              "      <td>3</td>\n",
              "      <td>14028</td>\n",
              "    </tr>\n",
              "    <tr>\n",
              "      <th>189185</th>\n",
              "      <td>Air_India</td>\n",
              "      <td>AI-430</td>\n",
              "      <td>Chennai</td>\n",
              "      <td>Morning</td>\n",
              "      <td>one</td>\n",
              "      <td>Evening</td>\n",
              "      <td>Mumbai</td>\n",
              "      <td>Economy</td>\n",
              "      <td>8.08</td>\n",
              "      <td>15</td>\n",
              "      <td>10643</td>\n",
              "    </tr>\n",
              "    <tr>\n",
              "      <th>199118</th>\n",
              "      <td>Vistara</td>\n",
              "      <td>UK-822</td>\n",
              "      <td>Chennai</td>\n",
              "      <td>Morning</td>\n",
              "      <td>one</td>\n",
              "      <td>Night</td>\n",
              "      <td>Kolkata</td>\n",
              "      <td>Economy</td>\n",
              "      <td>13.00</td>\n",
              "      <td>15</td>\n",
              "      <td>15384</td>\n",
              "    </tr>\n",
              "  </tbody>\n",
              "</table>\n",
              "</div>\n",
              "      <button class=\"colab-df-convert\" onclick=\"convertToInteractive('df-d09b24cf-aa4c-4ad9-90b0-11a991faed53')\"\n",
              "              title=\"Convert this dataframe to an interactive table.\"\n",
              "              style=\"display:none;\">\n",
              "        \n",
              "  <svg xmlns=\"http://www.w3.org/2000/svg\" height=\"24px\"viewBox=\"0 0 24 24\"\n",
              "       width=\"24px\">\n",
              "    <path d=\"M0 0h24v24H0V0z\" fill=\"none\"/>\n",
              "    <path d=\"M18.56 5.44l.94 2.06.94-2.06 2.06-.94-2.06-.94-.94-2.06-.94 2.06-2.06.94zm-11 1L8.5 8.5l.94-2.06 2.06-.94-2.06-.94L8.5 2.5l-.94 2.06-2.06.94zm10 10l.94 2.06.94-2.06 2.06-.94-2.06-.94-.94-2.06-.94 2.06-2.06.94z\"/><path d=\"M17.41 7.96l-1.37-1.37c-.4-.4-.92-.59-1.43-.59-.52 0-1.04.2-1.43.59L10.3 9.45l-7.72 7.72c-.78.78-.78 2.05 0 2.83L4 21.41c.39.39.9.59 1.41.59.51 0 1.02-.2 1.41-.59l7.78-7.78 2.81-2.81c.8-.78.8-2.07 0-2.86zM5.41 20L4 18.59l7.72-7.72 1.47 1.35L5.41 20z\"/>\n",
              "  </svg>\n",
              "      </button>\n",
              "      \n",
              "  <style>\n",
              "    .colab-df-container {\n",
              "      display:flex;\n",
              "      flex-wrap:wrap;\n",
              "      gap: 12px;\n",
              "    }\n",
              "\n",
              "    .colab-df-convert {\n",
              "      background-color: #E8F0FE;\n",
              "      border: none;\n",
              "      border-radius: 50%;\n",
              "      cursor: pointer;\n",
              "      display: none;\n",
              "      fill: #1967D2;\n",
              "      height: 32px;\n",
              "      padding: 0 0 0 0;\n",
              "      width: 32px;\n",
              "    }\n",
              "\n",
              "    .colab-df-convert:hover {\n",
              "      background-color: #E2EBFA;\n",
              "      box-shadow: 0px 1px 2px rgba(60, 64, 67, 0.3), 0px 1px 3px 1px rgba(60, 64, 67, 0.15);\n",
              "      fill: #174EA6;\n",
              "    }\n",
              "\n",
              "    [theme=dark] .colab-df-convert {\n",
              "      background-color: #3B4455;\n",
              "      fill: #D2E3FC;\n",
              "    }\n",
              "\n",
              "    [theme=dark] .colab-df-convert:hover {\n",
              "      background-color: #434B5C;\n",
              "      box-shadow: 0px 1px 3px 1px rgba(0, 0, 0, 0.15);\n",
              "      filter: drop-shadow(0px 1px 2px rgba(0, 0, 0, 0.3));\n",
              "      fill: #FFFFFF;\n",
              "    }\n",
              "  </style>\n",
              "\n",
              "      <script>\n",
              "        const buttonEl =\n",
              "          document.querySelector('#df-d09b24cf-aa4c-4ad9-90b0-11a991faed53 button.colab-df-convert');\n",
              "        buttonEl.style.display =\n",
              "          google.colab.kernel.accessAllowed ? 'block' : 'none';\n",
              "\n",
              "        async function convertToInteractive(key) {\n",
              "          const element = document.querySelector('#df-d09b24cf-aa4c-4ad9-90b0-11a991faed53');\n",
              "          const dataTable =\n",
              "            await google.colab.kernel.invokeFunction('convertToInteractive',\n",
              "                                                     [key], {});\n",
              "          if (!dataTable) return;\n",
              "\n",
              "          const docLinkHtml = 'Like what you see? Visit the ' +\n",
              "            '<a target=\"_blank\" href=https://colab.research.google.com/notebooks/data_table.ipynb>data table notebook</a>'\n",
              "            + ' to learn more about interactive tables.';\n",
              "          element.innerHTML = '';\n",
              "          dataTable['output_type'] = 'display_data';\n",
              "          await google.colab.output.renderOutput(dataTable, element);\n",
              "          const docLink = document.createElement('div');\n",
              "          docLink.innerHTML = docLinkHtml;\n",
              "          element.appendChild(docLink);\n",
              "        }\n",
              "      </script>\n",
              "    </div>\n",
              "  </div>\n",
              "  "
            ],
            "text/plain": [
              "          airline   flight source_city departure_time stops arrival_time  \\\n",
              "index                                                                      \n",
              "179791    Vistara   UK-876   Hyderabad          Night   one      Morning   \n",
              "94264    GO_FIRST   G8-116   Bangalore  Early_Morning   one        Night   \n",
              "140559    Vistara   UK-738     Kolkata        Evening   one        Night   \n",
              "213532  Air_India   AI-665       Delhi  Early_Morning   one      Morning   \n",
              "6230       Indigo  6E-2097       Delhi  Early_Morning   one    Afternoon   \n",
              "24656      Indigo  6E-2043       Delhi      Afternoon   one      Evening   \n",
              "208126    Vistara   UK-879       Delhi        Evening   one        Night   \n",
              "43333     Vistara   UK-771      Mumbai  Early_Morning   one      Morning   \n",
              "189185  Air_India   AI-430     Chennai        Morning   one      Evening   \n",
              "199118    Vistara   UK-822     Chennai        Morning   one        Night   \n",
              "\n",
              "       destination_city     class  duration  days_left  price  \n",
              "index                                                          \n",
              "179791          Chennai   Economy     14.25         41   6287  \n",
              "94264            Mumbai   Economy     13.83          3   5177  \n",
              "140559        Bangalore   Economy     25.67         36   8111  \n",
              "213532        Bangalore  Business     27.17         21  42457  \n",
              "6230             Mumbai   Economy      7.58         32   2410  \n",
              "24656           Kolkata   Economy      4.17         27   4257  \n",
              "208126           Mumbai  Business      5.33         15  45156  \n",
              "43333             Delhi   Economy     26.58          3  14028  \n",
              "189185           Mumbai   Economy      8.08         15  10643  \n",
              "199118          Kolkata   Economy     13.00         15  15384  "
            ]
          },
          "execution_count": 2,
          "metadata": {},
          "output_type": "execute_result"
        }
      ],
      "source": [
        "import pandas as pd\n",
        "\n",
        "train_set = pd.read_csv('/content/train_set.csv', index_col='index')\n",
        "test_set = pd.read_csv('/content/test_set.csv', index_col='index')\n",
        "train_set.head(10)"
      ]
    },
    {
      "cell_type": "code",
      "execution_count": 3,
      "metadata": {
        "colab": {
          "base_uri": "https://localhost:8080/"
        },
        "id": "aUeY1lbEDRHW",
        "outputId": "f13c8eec-189c-43de-fab0-05a51ea108f2"
      },
      "outputs": [
        {
          "data": {
            "text/plain": [
              "((210107, 11), (90046, 10))"
            ]
          },
          "execution_count": 3,
          "metadata": {},
          "output_type": "execute_result"
        }
      ],
      "source": [
        "train_set.shape, test_set.shape"
      ]
    },
    {
      "cell_type": "code",
      "execution_count": 4,
      "metadata": {
        "colab": {
          "base_uri": "https://localhost:8080/"
        },
        "id": "LzwLfXSpVUUv",
        "outputId": "c8cec283-8dc4-48b1-e5ae-e3f8f9bd6611"
      },
      "outputs": [
        {
          "data": {
            "text/plain": [
              "airline             0\n",
              "flight              0\n",
              "source_city         0\n",
              "departure_time      0\n",
              "stops               0\n",
              "arrival_time        0\n",
              "destination_city    0\n",
              "class               0\n",
              "duration            0\n",
              "days_left           0\n",
              "price               0\n",
              "dtype: int64"
            ]
          },
          "execution_count": 4,
          "metadata": {},
          "output_type": "execute_result"
        }
      ],
      "source": [
        "train_set.isna().sum()"
      ]
    },
    {
      "cell_type": "code",
      "execution_count": 5,
      "metadata": {
        "colab": {
          "base_uri": "https://localhost:8080/",
          "height": 99
        },
        "id": "RsAmwh3sVXmY",
        "outputId": "814b815d-f87d-43c1-b4d2-c4a9b13ae5c0"
      },
      "outputs": [
        {
          "data": {
            "text/html": [
              "\n",
              "  <div id=\"df-7994a716-f752-4bf5-87c0-98eac9c3a91e\">\n",
              "    <div class=\"colab-df-container\">\n",
              "      <div>\n",
              "<style scoped>\n",
              "    .dataframe tbody tr th:only-of-type {\n",
              "        vertical-align: middle;\n",
              "    }\n",
              "\n",
              "    .dataframe tbody tr th {\n",
              "        vertical-align: top;\n",
              "    }\n",
              "\n",
              "    .dataframe thead th {\n",
              "        text-align: right;\n",
              "    }\n",
              "</style>\n",
              "<table border=\"1\" class=\"dataframe\">\n",
              "  <thead>\n",
              "    <tr style=\"text-align: right;\">\n",
              "      <th></th>\n",
              "      <th>airline</th>\n",
              "      <th>flight</th>\n",
              "      <th>source_city</th>\n",
              "      <th>departure_time</th>\n",
              "      <th>stops</th>\n",
              "      <th>arrival_time</th>\n",
              "      <th>destination_city</th>\n",
              "      <th>class</th>\n",
              "      <th>duration</th>\n",
              "      <th>days_left</th>\n",
              "      <th>price</th>\n",
              "    </tr>\n",
              "    <tr>\n",
              "      <th>index</th>\n",
              "      <th></th>\n",
              "      <th></th>\n",
              "      <th></th>\n",
              "      <th></th>\n",
              "      <th></th>\n",
              "      <th></th>\n",
              "      <th></th>\n",
              "      <th></th>\n",
              "      <th></th>\n",
              "      <th></th>\n",
              "      <th></th>\n",
              "    </tr>\n",
              "  </thead>\n",
              "  <tbody>\n",
              "  </tbody>\n",
              "</table>\n",
              "</div>\n",
              "      <button class=\"colab-df-convert\" onclick=\"convertToInteractive('df-7994a716-f752-4bf5-87c0-98eac9c3a91e')\"\n",
              "              title=\"Convert this dataframe to an interactive table.\"\n",
              "              style=\"display:none;\">\n",
              "        \n",
              "  <svg xmlns=\"http://www.w3.org/2000/svg\" height=\"24px\"viewBox=\"0 0 24 24\"\n",
              "       width=\"24px\">\n",
              "    <path d=\"M0 0h24v24H0V0z\" fill=\"none\"/>\n",
              "    <path d=\"M18.56 5.44l.94 2.06.94-2.06 2.06-.94-2.06-.94-.94-2.06-.94 2.06-2.06.94zm-11 1L8.5 8.5l.94-2.06 2.06-.94-2.06-.94L8.5 2.5l-.94 2.06-2.06.94zm10 10l.94 2.06.94-2.06 2.06-.94-2.06-.94-.94-2.06-.94 2.06-2.06.94z\"/><path d=\"M17.41 7.96l-1.37-1.37c-.4-.4-.92-.59-1.43-.59-.52 0-1.04.2-1.43.59L10.3 9.45l-7.72 7.72c-.78.78-.78 2.05 0 2.83L4 21.41c.39.39.9.59 1.41.59.51 0 1.02-.2 1.41-.59l7.78-7.78 2.81-2.81c.8-.78.8-2.07 0-2.86zM5.41 20L4 18.59l7.72-7.72 1.47 1.35L5.41 20z\"/>\n",
              "  </svg>\n",
              "      </button>\n",
              "      \n",
              "  <style>\n",
              "    .colab-df-container {\n",
              "      display:flex;\n",
              "      flex-wrap:wrap;\n",
              "      gap: 12px;\n",
              "    }\n",
              "\n",
              "    .colab-df-convert {\n",
              "      background-color: #E8F0FE;\n",
              "      border: none;\n",
              "      border-radius: 50%;\n",
              "      cursor: pointer;\n",
              "      display: none;\n",
              "      fill: #1967D2;\n",
              "      height: 32px;\n",
              "      padding: 0 0 0 0;\n",
              "      width: 32px;\n",
              "    }\n",
              "\n",
              "    .colab-df-convert:hover {\n",
              "      background-color: #E2EBFA;\n",
              "      box-shadow: 0px 1px 2px rgba(60, 64, 67, 0.3), 0px 1px 3px 1px rgba(60, 64, 67, 0.15);\n",
              "      fill: #174EA6;\n",
              "    }\n",
              "\n",
              "    [theme=dark] .colab-df-convert {\n",
              "      background-color: #3B4455;\n",
              "      fill: #D2E3FC;\n",
              "    }\n",
              "\n",
              "    [theme=dark] .colab-df-convert:hover {\n",
              "      background-color: #434B5C;\n",
              "      box-shadow: 0px 1px 3px 1px rgba(0, 0, 0, 0.15);\n",
              "      filter: drop-shadow(0px 1px 2px rgba(0, 0, 0, 0.3));\n",
              "      fill: #FFFFFF;\n",
              "    }\n",
              "  </style>\n",
              "\n",
              "      <script>\n",
              "        const buttonEl =\n",
              "          document.querySelector('#df-7994a716-f752-4bf5-87c0-98eac9c3a91e button.colab-df-convert');\n",
              "        buttonEl.style.display =\n",
              "          google.colab.kernel.accessAllowed ? 'block' : 'none';\n",
              "\n",
              "        async function convertToInteractive(key) {\n",
              "          const element = document.querySelector('#df-7994a716-f752-4bf5-87c0-98eac9c3a91e');\n",
              "          const dataTable =\n",
              "            await google.colab.kernel.invokeFunction('convertToInteractive',\n",
              "                                                     [key], {});\n",
              "          if (!dataTable) return;\n",
              "\n",
              "          const docLinkHtml = 'Like what you see? Visit the ' +\n",
              "            '<a target=\"_blank\" href=https://colab.research.google.com/notebooks/data_table.ipynb>data table notebook</a>'\n",
              "            + ' to learn more about interactive tables.';\n",
              "          element.innerHTML = '';\n",
              "          dataTable['output_type'] = 'display_data';\n",
              "          await google.colab.output.renderOutput(dataTable, element);\n",
              "          const docLink = document.createElement('div');\n",
              "          docLink.innerHTML = docLinkHtml;\n",
              "          element.appendChild(docLink);\n",
              "        }\n",
              "      </script>\n",
              "    </div>\n",
              "  </div>\n",
              "  "
            ],
            "text/plain": [
              "Empty DataFrame\n",
              "Columns: [airline, flight, source_city, departure_time, stops, arrival_time, destination_city, class, duration, days_left, price]\n",
              "Index: []"
            ]
          },
          "execution_count": 5,
          "metadata": {},
          "output_type": "execute_result"
        }
      ],
      "source": [
        "train_set[train_set.duplicated()]"
      ]
    },
    {
      "cell_type": "code",
      "execution_count": 6,
      "metadata": {
        "id": "BhrJnWZXoXUQ"
      },
      "outputs": [],
      "source": [
        "from sklearn.preprocessing import LabelEncoder\n",
        "\n",
        "\n",
        "cat_features = list(train_set.select_dtypes(include=['object']).columns)\n",
        "cat_features.remove('stops')\n",
        "\n",
        "for feature in cat_features:\n",
        "    label_encoder = LabelEncoder().fit(pd.concat([train_set[feature], test_set[feature]]))\n",
        "    train_set[feature] = label_encoder.transform(train_set[feature])\n",
        "    test_set[feature] = label_encoder.transform(test_set[feature])"
      ]
    },
    {
      "cell_type": "code",
      "execution_count": 7,
      "metadata": {
        "id": "UBlj1czPVhr8"
      },
      "outputs": [],
      "source": [
        "X = train_set.drop('price', axis=1)\n",
        "y = train_set['price']"
      ]
    },
    {
      "cell_type": "code",
      "execution_count": 8,
      "metadata": {
        "colab": {
          "base_uri": "https://localhost:8080/"
        },
        "id": "Ncj0oB-1vcV9",
        "outputId": "b6db1ff5-f901-421a-fb83-4d2f7dbdb50a"
      },
      "outputs": [
        {
          "data": {
            "text/plain": [
              "array(['one', 'two_or_more', 'zero'], dtype=object)"
            ]
          },
          "execution_count": 8,
          "metadata": {},
          "output_type": "execute_result"
        }
      ],
      "source": [
        "X['stops'].unique()"
      ]
    },
    {
      "cell_type": "code",
      "execution_count": 9,
      "metadata": {
        "colab": {
          "base_uri": "https://localhost:8080/"
        },
        "id": "P33WQ833YX6M",
        "outputId": "900ab987-ad72-474f-8d08-3f6ee1857919"
      },
      "outputs": [
        {
          "data": {
            "text/plain": [
              "array([1, 2, 0])"
            ]
          },
          "execution_count": 9,
          "metadata": {},
          "output_type": "execute_result"
        }
      ],
      "source": [
        "nums = {\n",
        "    'zero': 0,\n",
        "    'one': 1,\n",
        "    'two_or_more': 2,\n",
        "}\n",
        "X['stops'] = X['stops'].apply(lambda x: nums[x])\n",
        "X['stops'].unique()"
      ]
    },
    {
      "cell_type": "code",
      "execution_count": 10,
      "metadata": {
        "id": "1FUfUO4cY8Lv"
      },
      "outputs": [],
      "source": [
        "test_set['stops'] = test_set['stops'].apply(lambda x: nums[x])"
      ]
    },
    {
      "cell_type": "code",
      "execution_count": 11,
      "metadata": {
        "id": "jysORqnIdBgA"
      },
      "outputs": [],
      "source": [
        "X['stops_duration_product'] = X['stops'] * X['duration']\n",
        "test_set['stops_duration_product'] = test_set['stops'] * test_set['duration']"
      ]
    },
    {
      "cell_type": "code",
      "execution_count": 12,
      "metadata": {
        "id": "_xVr0079Z-qu"
      },
      "outputs": [],
      "source": [
        "X['stops_duration_ratio'] = X['stops'] / X['duration']\n",
        "test_set['stops_duration_ratio'] = test_set['stops'] / test_set['duration']"
      ]
    },
    {
      "cell_type": "code",
      "execution_count": 13,
      "metadata": {
        "colab": {
          "base_uri": "https://localhost:8080/",
          "height": 266
        },
        "id": "wczUrsItWNPb",
        "outputId": "1930aad7-187d-4681-df90-30d9de086ad5"
      },
      "outputs": [
        {
          "data": {
            "text/html": [
              "\n",
              "  <div id=\"df-e3efe6da-6987-4b29-b7d3-d8b86ea7aa70\">\n",
              "    <div class=\"colab-df-container\">\n",
              "      <div>\n",
              "<style scoped>\n",
              "    .dataframe tbody tr th:only-of-type {\n",
              "        vertical-align: middle;\n",
              "    }\n",
              "\n",
              "    .dataframe tbody tr th {\n",
              "        vertical-align: top;\n",
              "    }\n",
              "\n",
              "    .dataframe thead th {\n",
              "        text-align: right;\n",
              "    }\n",
              "</style>\n",
              "<table border=\"1\" class=\"dataframe\">\n",
              "  <thead>\n",
              "    <tr style=\"text-align: right;\">\n",
              "      <th></th>\n",
              "      <th>airline</th>\n",
              "      <th>flight</th>\n",
              "      <th>source_city</th>\n",
              "      <th>departure_time</th>\n",
              "      <th>stops</th>\n",
              "      <th>arrival_time</th>\n",
              "      <th>destination_city</th>\n",
              "      <th>class</th>\n",
              "      <th>duration</th>\n",
              "      <th>days_left</th>\n",
              "      <th>stops_duration_product</th>\n",
              "      <th>stops_duration_ratio</th>\n",
              "    </tr>\n",
              "  </thead>\n",
              "  <tbody>\n",
              "    <tr>\n",
              "      <th>0</th>\n",
              "      <td>1.033746</td>\n",
              "      <td>1.011650</td>\n",
              "      <td>0.241134</td>\n",
              "      <td>1.472212</td>\n",
              "      <td>0.190121</td>\n",
              "      <td>0.531627</td>\n",
              "      <td>-0.910442</td>\n",
              "      <td>0.672576</td>\n",
              "      <td>0.282117</td>\n",
              "      <td>1.105764</td>\n",
              "      <td>0.181330</td>\n",
              "      <td>-0.272138</td>\n",
              "    </tr>\n",
              "    <tr>\n",
              "      <th>1</th>\n",
              "      <td>-0.602682</td>\n",
              "      <td>-0.371085</td>\n",
              "      <td>-1.471431</td>\n",
              "      <td>-0.807934</td>\n",
              "      <td>0.190121</td>\n",
              "      <td>1.105790</td>\n",
              "      <td>1.382425</td>\n",
              "      <td>0.672576</td>\n",
              "      <td>0.223718</td>\n",
              "      <td>-1.696393</td>\n",
              "      <td>0.134139</td>\n",
              "      <td>-0.235095</td>\n",
              "    </tr>\n",
              "    <tr>\n",
              "      <th>2</th>\n",
              "      <td>1.033746</td>\n",
              "      <td>0.845253</td>\n",
              "      <td>0.811988</td>\n",
              "      <td>-0.237897</td>\n",
              "      <td>0.190121</td>\n",
              "      <td>1.105790</td>\n",
              "      <td>-1.483659</td>\n",
              "      <td>0.672576</td>\n",
              "      <td>1.869995</td>\n",
              "      <td>0.737059</td>\n",
              "      <td>1.464477</td>\n",
              "      <td>-0.814794</td>\n",
              "    </tr>\n",
              "    <tr>\n",
              "      <th>3</th>\n",
              "      <td>-1.148157</td>\n",
              "      <td>-0.647632</td>\n",
              "      <td>-0.329721</td>\n",
              "      <td>-0.807934</td>\n",
              "      <td>0.190121</td>\n",
              "      <td>0.531627</td>\n",
              "      <td>-1.483659</td>\n",
              "      <td>-1.486822</td>\n",
              "      <td>2.078561</td>\n",
              "      <td>-0.369055</td>\n",
              "      <td>1.633017</td>\n",
              "      <td>-0.852177</td>\n",
              "    </tr>\n",
              "    <tr>\n",
              "      <th>4</th>\n",
              "      <td>-0.057206</td>\n",
              "      <td>-2.269416</td>\n",
              "      <td>-0.329721</td>\n",
              "      <td>-0.807934</td>\n",
              "      <td>0.190121</td>\n",
              "      <td>-1.765028</td>\n",
              "      <td>1.382425</td>\n",
              "      <td>0.672576</td>\n",
              "      <td>-0.645305</td>\n",
              "      <td>0.442096</td>\n",
              "      <td>-0.568109</td>\n",
              "      <td>0.801211</td>\n",
              "    </tr>\n",
              "  </tbody>\n",
              "</table>\n",
              "</div>\n",
              "      <button class=\"colab-df-convert\" onclick=\"convertToInteractive('df-e3efe6da-6987-4b29-b7d3-d8b86ea7aa70')\"\n",
              "              title=\"Convert this dataframe to an interactive table.\"\n",
              "              style=\"display:none;\">\n",
              "        \n",
              "  <svg xmlns=\"http://www.w3.org/2000/svg\" height=\"24px\"viewBox=\"0 0 24 24\"\n",
              "       width=\"24px\">\n",
              "    <path d=\"M0 0h24v24H0V0z\" fill=\"none\"/>\n",
              "    <path d=\"M18.56 5.44l.94 2.06.94-2.06 2.06-.94-2.06-.94-.94-2.06-.94 2.06-2.06.94zm-11 1L8.5 8.5l.94-2.06 2.06-.94-2.06-.94L8.5 2.5l-.94 2.06-2.06.94zm10 10l.94 2.06.94-2.06 2.06-.94-2.06-.94-.94-2.06-.94 2.06-2.06.94z\"/><path d=\"M17.41 7.96l-1.37-1.37c-.4-.4-.92-.59-1.43-.59-.52 0-1.04.2-1.43.59L10.3 9.45l-7.72 7.72c-.78.78-.78 2.05 0 2.83L4 21.41c.39.39.9.59 1.41.59.51 0 1.02-.2 1.41-.59l7.78-7.78 2.81-2.81c.8-.78.8-2.07 0-2.86zM5.41 20L4 18.59l7.72-7.72 1.47 1.35L5.41 20z\"/>\n",
              "  </svg>\n",
              "      </button>\n",
              "      \n",
              "  <style>\n",
              "    .colab-df-container {\n",
              "      display:flex;\n",
              "      flex-wrap:wrap;\n",
              "      gap: 12px;\n",
              "    }\n",
              "\n",
              "    .colab-df-convert {\n",
              "      background-color: #E8F0FE;\n",
              "      border: none;\n",
              "      border-radius: 50%;\n",
              "      cursor: pointer;\n",
              "      display: none;\n",
              "      fill: #1967D2;\n",
              "      height: 32px;\n",
              "      padding: 0 0 0 0;\n",
              "      width: 32px;\n",
              "    }\n",
              "\n",
              "    .colab-df-convert:hover {\n",
              "      background-color: #E2EBFA;\n",
              "      box-shadow: 0px 1px 2px rgba(60, 64, 67, 0.3), 0px 1px 3px 1px rgba(60, 64, 67, 0.15);\n",
              "      fill: #174EA6;\n",
              "    }\n",
              "\n",
              "    [theme=dark] .colab-df-convert {\n",
              "      background-color: #3B4455;\n",
              "      fill: #D2E3FC;\n",
              "    }\n",
              "\n",
              "    [theme=dark] .colab-df-convert:hover {\n",
              "      background-color: #434B5C;\n",
              "      box-shadow: 0px 1px 3px 1px rgba(0, 0, 0, 0.15);\n",
              "      filter: drop-shadow(0px 1px 2px rgba(0, 0, 0, 0.3));\n",
              "      fill: #FFFFFF;\n",
              "    }\n",
              "  </style>\n",
              "\n",
              "      <script>\n",
              "        const buttonEl =\n",
              "          document.querySelector('#df-e3efe6da-6987-4b29-b7d3-d8b86ea7aa70 button.colab-df-convert');\n",
              "        buttonEl.style.display =\n",
              "          google.colab.kernel.accessAllowed ? 'block' : 'none';\n",
              "\n",
              "        async function convertToInteractive(key) {\n",
              "          const element = document.querySelector('#df-e3efe6da-6987-4b29-b7d3-d8b86ea7aa70');\n",
              "          const dataTable =\n",
              "            await google.colab.kernel.invokeFunction('convertToInteractive',\n",
              "                                                     [key], {});\n",
              "          if (!dataTable) return;\n",
              "\n",
              "          const docLinkHtml = 'Like what you see? Visit the ' +\n",
              "            '<a target=\"_blank\" href=https://colab.research.google.com/notebooks/data_table.ipynb>data table notebook</a>'\n",
              "            + ' to learn more about interactive tables.';\n",
              "          element.innerHTML = '';\n",
              "          dataTable['output_type'] = 'display_data';\n",
              "          await google.colab.output.renderOutput(dataTable, element);\n",
              "          const docLink = document.createElement('div');\n",
              "          docLink.innerHTML = docLinkHtml;\n",
              "          element.appendChild(docLink);\n",
              "        }\n",
              "      </script>\n",
              "    </div>\n",
              "  </div>\n",
              "  "
            ],
            "text/plain": [
              "    airline    flight  source_city  departure_time     stops  arrival_time  \\\n",
              "0  1.033746  1.011650     0.241134        1.472212  0.190121      0.531627   \n",
              "1 -0.602682 -0.371085    -1.471431       -0.807934  0.190121      1.105790   \n",
              "2  1.033746  0.845253     0.811988       -0.237897  0.190121      1.105790   \n",
              "3 -1.148157 -0.647632    -0.329721       -0.807934  0.190121      0.531627   \n",
              "4 -0.057206 -2.269416    -0.329721       -0.807934  0.190121     -1.765028   \n",
              "\n",
              "   destination_city     class  duration  days_left  stops_duration_product  \\\n",
              "0         -0.910442  0.672576  0.282117   1.105764                0.181330   \n",
              "1          1.382425  0.672576  0.223718  -1.696393                0.134139   \n",
              "2         -1.483659  0.672576  1.869995   0.737059                1.464477   \n",
              "3         -1.483659 -1.486822  2.078561  -0.369055                1.633017   \n",
              "4          1.382425  0.672576 -0.645305   0.442096               -0.568109   \n",
              "\n",
              "   stops_duration_ratio  \n",
              "0             -0.272138  \n",
              "1             -0.235095  \n",
              "2             -0.814794  \n",
              "3             -0.852177  \n",
              "4              0.801211  "
            ]
          },
          "execution_count": 13,
          "metadata": {},
          "output_type": "execute_result"
        }
      ],
      "source": [
        "from sklearn.preprocessing import StandardScaler\n",
        "\n",
        "num_features = list(X.select_dtypes(include=['int64', 'float64']).columns)\n",
        "scaler = StandardScaler()\n",
        "scaler.fit(pd.concat([X, test_set])[num_features])\n",
        "\n",
        "X = pd.DataFrame(scaler.transform(X[num_features]), columns=num_features)\n",
        "test_set = pd.DataFrame(scaler.transform(test_set[num_features]), columns=num_features)\n",
        "X.head()"
      ]
    },
    {
      "cell_type": "markdown",
      "metadata": {
        "id": "Yx_bWRLYuTOZ"
      },
      "source": [
        "## Task 2:\n",
        "Engineer features by combining 2 or more features in non linear way. For example multiply the number of stops and duration\n",
        "\n",
        "Create 2 new features by combining existing features. Add those features to your feature set."
      ]
    },
    {
      "cell_type": "markdown",
      "metadata": {
        "id": "LMy5OKbWwK3d"
      },
      "source": [
        "## Task 3:\n",
        "Create decision tree for regression using sklearn.tree.DecisionTreeRegressor library. \n",
        "\n",
        "Select several parameters (such as: max_depth, ccp_alpha  [etc.](https://scikit-learn.org/stable/modules/generated/sklearn.tree.DecisionTreeRegressor.html)) and tune them using [sklearn.model_selection.GridSearchCV](https://scikit-learn.org/stable/modules/generated/sklearn.model_selection.GridSearchCV.html)\n",
        "\n",
        "Train the tree on the train set data."
      ]
    },
    {
      "cell_type": "code",
      "execution_count": 14,
      "metadata": {
        "id": "RX8rdUGvhLv6"
      },
      "outputs": [],
      "source": [
        "from sklearn.model_selection import train_test_split\n",
        "\n",
        "X_train, X_test, y_train, y_test = train_test_split(X, y, test_size=0.1, random_state=42)"
      ]
    },
    {
      "cell_type": "code",
      "execution_count": 15,
      "metadata": {
        "id": "3Fap50uNzD29"
      },
      "outputs": [],
      "source": [
        "from sklearn.tree import DecisionTreeRegressor\n",
        "from sklearn.model_selection import GridSearchCV, RandomizedSearchCV, cross_val_score\n",
        "\n",
        "regressor = DecisionTreeRegressor()"
      ]
    },
    {
      "cell_type": "code",
      "execution_count": 29,
      "metadata": {
        "id": "mgfn0V7oe2Dr"
      },
      "outputs": [],
      "source": [
        "params = {\n",
        "    'max_depth': [3, 4, 5, 6, 7, 10, 15, 20, 30],\n",
        "    'ccp_alpha': [0.0, 0.4, 0.8]\n",
        "}"
      ]
    },
    {
      "cell_type": "code",
      "execution_count": 30,
      "metadata": {
        "colab": {
          "base_uri": "https://localhost:8080/"
        },
        "id": "Z-Yle_gchFTa",
        "outputId": "3e48dfe6-1700-4833-bcf1-e3f5f9619c15"
      },
      "outputs": [
        {
          "name": "stdout",
          "output_type": "stream",
          "text": [
            "Best parameters GS: {'ccp_alpha': 0.4, 'max_depth': 20}\n"
          ]
        }
      ],
      "source": [
        "grid_search = GridSearchCV(regressor, params, cv=5)\n",
        "grid_search.fit(X_train, y_train)\n",
        "\n",
        "print(\"Best parameters GS:\", grid_search.best_params_)\n",
        "best_dt_gs = grid_search.best_estimator_"
      ]
    },
    {
      "cell_type": "code",
      "execution_count": 31,
      "metadata": {
        "colab": {
          "base_uri": "https://localhost:8080/"
        },
        "id": "Tidoz2VlhfSN",
        "outputId": "b04bfa6b-1a31-4206-9756-366b43c327a1"
      },
      "outputs": [
        {
          "name": "stdout",
          "output_type": "stream",
          "text": [
            "Mean cross-validation scores: GS - 0.9812468718290646\n",
            "Standard deviation of cross-validation scores: GS - 0.00036679367157285876\n"
          ]
        }
      ],
      "source": [
        "import numpy as np\n",
        "\n",
        "scores_gs = cross_val_score(best_dt_gs, X_train, y_train, cv=5)\n",
        "\n",
        "print(f\"Mean cross-validation scores: GS - {np.mean(scores_gs)}\")\n",
        "print(f\"Standard deviation of cross-validation scores: GS - {np.std(scores_gs)}\")"
      ]
    },
    {
      "cell_type": "code",
      "execution_count": 33,
      "metadata": {
        "id": "gi0TWVmJCJ5P"
      },
      "outputs": [],
      "source": [
        "dec_tree = best_dt_gs"
      ]
    },
    {
      "cell_type": "markdown",
      "metadata": {
        "id": "kNI5tTM1zF8v"
      },
      "source": [
        "## Task 4:\n",
        "Use the trained model to predict on the test set.\n",
        "\n",
        "plot the selected tree using tree.plot_tree\n",
        "\n",
        "Save the output predictions on a csv file to submit to the Kaggle competition. Name the file 'sample_submission', you have an example of it in a file named 'sample_submission.csv'\n",
        "\n",
        "Make sure to keep the ids same as they are in \"sample_submission.csv\""
      ]
    },
    {
      "cell_type": "code",
      "execution_count": null,
      "metadata": {
        "id": "JvhuRCN7XpSb"
      },
      "outputs": [],
      "source": [
        "from sklearn.tree import plot_tree\n",
        "import matplotlib.pyplot as plt\n",
        "\n",
        "plot_tree(dec_tree, feature_names=X_train.columns, filled=True)\n",
        "plt.show()"
      ]
    },
    {
      "cell_type": "code",
      "execution_count": 32,
      "metadata": {
        "colab": {
          "base_uri": "https://localhost:8080/",
          "height": 266
        },
        "id": "0dTN0-3F0NCx",
        "outputId": "27c469e5-30a3-4183-fd37-1f3358ca2c94"
      },
      "outputs": [
        {
          "data": {
            "text/html": [
              "\n",
              "  <div id=\"df-d3eaeabf-1521-4ea0-841b-0defbc28caae\">\n",
              "    <div class=\"colab-df-container\">\n",
              "      <div>\n",
              "<style scoped>\n",
              "    .dataframe tbody tr th:only-of-type {\n",
              "        vertical-align: middle;\n",
              "    }\n",
              "\n",
              "    .dataframe tbody tr th {\n",
              "        vertical-align: top;\n",
              "    }\n",
              "\n",
              "    .dataframe thead th {\n",
              "        text-align: right;\n",
              "    }\n",
              "</style>\n",
              "<table border=\"1\" class=\"dataframe\">\n",
              "  <thead>\n",
              "    <tr style=\"text-align: right;\">\n",
              "      <th></th>\n",
              "      <th>airline</th>\n",
              "      <th>flight</th>\n",
              "      <th>source_city</th>\n",
              "      <th>departure_time</th>\n",
              "      <th>stops</th>\n",
              "      <th>arrival_time</th>\n",
              "      <th>destination_city</th>\n",
              "      <th>class</th>\n",
              "      <th>duration</th>\n",
              "      <th>days_left</th>\n",
              "      <th>stops_duration_product</th>\n",
              "      <th>stops_duration_ratio</th>\n",
              "    </tr>\n",
              "  </thead>\n",
              "  <tbody>\n",
              "    <tr>\n",
              "      <th>0</th>\n",
              "      <td>-1.693633</td>\n",
              "      <td>0.294503</td>\n",
              "      <td>0.241134</td>\n",
              "      <td>1.472212</td>\n",
              "      <td>0.190121</td>\n",
              "      <td>-0.042537</td>\n",
              "      <td>-0.337225</td>\n",
              "      <td>0.672576</td>\n",
              "      <td>-1.108320</td>\n",
              "      <td>0.663318</td>\n",
              "      <td>-0.942267</td>\n",
              "      <td>2.597952</td>\n",
              "    </tr>\n",
              "    <tr>\n",
              "      <th>1</th>\n",
              "      <td>1.033746</td>\n",
              "      <td>1.079615</td>\n",
              "      <td>-0.329721</td>\n",
              "      <td>0.902176</td>\n",
              "      <td>0.190121</td>\n",
              "      <td>1.105790</td>\n",
              "      <td>-0.910442</td>\n",
              "      <td>-1.486822</td>\n",
              "      <td>0.282117</td>\n",
              "      <td>1.621951</td>\n",
              "      <td>0.181330</td>\n",
              "      <td>-0.272138</td>\n",
              "    </tr>\n",
              "    <tr>\n",
              "      <th>2</th>\n",
              "      <td>1.033746</td>\n",
              "      <td>0.882751</td>\n",
              "      <td>-1.471431</td>\n",
              "      <td>-0.807934</td>\n",
              "      <td>-2.321779</td>\n",
              "      <td>0.531627</td>\n",
              "      <td>-0.337225</td>\n",
              "      <td>0.672576</td>\n",
              "      <td>-1.328009</td>\n",
              "      <td>-0.369055</td>\n",
              "      <td>-1.419796</td>\n",
              "      <td>-1.491927</td>\n",
              "    </tr>\n",
              "    <tr>\n",
              "      <th>3</th>\n",
              "      <td>-1.148157</td>\n",
              "      <td>-0.872619</td>\n",
              "      <td>-0.900576</td>\n",
              "      <td>0.902176</td>\n",
              "      <td>0.190121</td>\n",
              "      <td>-0.616701</td>\n",
              "      <td>1.382425</td>\n",
              "      <td>-1.486822</td>\n",
              "      <td>-0.575783</td>\n",
              "      <td>0.294614</td>\n",
              "      <td>-0.511929</td>\n",
              "      <td>0.659309</td>\n",
              "    </tr>\n",
              "    <tr>\n",
              "      <th>4</th>\n",
              "      <td>-0.057206</td>\n",
              "      <td>-2.496747</td>\n",
              "      <td>0.241134</td>\n",
              "      <td>-0.807934</td>\n",
              "      <td>-2.321779</td>\n",
              "      <td>-1.190865</td>\n",
              "      <td>-0.910442</td>\n",
              "      <td>0.672576</td>\n",
              "      <td>-1.525451</td>\n",
              "      <td>1.105764</td>\n",
              "      <td>-1.419796</td>\n",
              "      <td>-1.491927</td>\n",
              "    </tr>\n",
              "  </tbody>\n",
              "</table>\n",
              "</div>\n",
              "      <button class=\"colab-df-convert\" onclick=\"convertToInteractive('df-d3eaeabf-1521-4ea0-841b-0defbc28caae')\"\n",
              "              title=\"Convert this dataframe to an interactive table.\"\n",
              "              style=\"display:none;\">\n",
              "        \n",
              "  <svg xmlns=\"http://www.w3.org/2000/svg\" height=\"24px\"viewBox=\"0 0 24 24\"\n",
              "       width=\"24px\">\n",
              "    <path d=\"M0 0h24v24H0V0z\" fill=\"none\"/>\n",
              "    <path d=\"M18.56 5.44l.94 2.06.94-2.06 2.06-.94-2.06-.94-.94-2.06-.94 2.06-2.06.94zm-11 1L8.5 8.5l.94-2.06 2.06-.94-2.06-.94L8.5 2.5l-.94 2.06-2.06.94zm10 10l.94 2.06.94-2.06 2.06-.94-2.06-.94-.94-2.06-.94 2.06-2.06.94z\"/><path d=\"M17.41 7.96l-1.37-1.37c-.4-.4-.92-.59-1.43-.59-.52 0-1.04.2-1.43.59L10.3 9.45l-7.72 7.72c-.78.78-.78 2.05 0 2.83L4 21.41c.39.39.9.59 1.41.59.51 0 1.02-.2 1.41-.59l7.78-7.78 2.81-2.81c.8-.78.8-2.07 0-2.86zM5.41 20L4 18.59l7.72-7.72 1.47 1.35L5.41 20z\"/>\n",
              "  </svg>\n",
              "      </button>\n",
              "      \n",
              "  <style>\n",
              "    .colab-df-container {\n",
              "      display:flex;\n",
              "      flex-wrap:wrap;\n",
              "      gap: 12px;\n",
              "    }\n",
              "\n",
              "    .colab-df-convert {\n",
              "      background-color: #E8F0FE;\n",
              "      border: none;\n",
              "      border-radius: 50%;\n",
              "      cursor: pointer;\n",
              "      display: none;\n",
              "      fill: #1967D2;\n",
              "      height: 32px;\n",
              "      padding: 0 0 0 0;\n",
              "      width: 32px;\n",
              "    }\n",
              "\n",
              "    .colab-df-convert:hover {\n",
              "      background-color: #E2EBFA;\n",
              "      box-shadow: 0px 1px 2px rgba(60, 64, 67, 0.3), 0px 1px 3px 1px rgba(60, 64, 67, 0.15);\n",
              "      fill: #174EA6;\n",
              "    }\n",
              "\n",
              "    [theme=dark] .colab-df-convert {\n",
              "      background-color: #3B4455;\n",
              "      fill: #D2E3FC;\n",
              "    }\n",
              "\n",
              "    [theme=dark] .colab-df-convert:hover {\n",
              "      background-color: #434B5C;\n",
              "      box-shadow: 0px 1px 3px 1px rgba(0, 0, 0, 0.15);\n",
              "      filter: drop-shadow(0px 1px 2px rgba(0, 0, 0, 0.3));\n",
              "      fill: #FFFFFF;\n",
              "    }\n",
              "  </style>\n",
              "\n",
              "      <script>\n",
              "        const buttonEl =\n",
              "          document.querySelector('#df-d3eaeabf-1521-4ea0-841b-0defbc28caae button.colab-df-convert');\n",
              "        buttonEl.style.display =\n",
              "          google.colab.kernel.accessAllowed ? 'block' : 'none';\n",
              "\n",
              "        async function convertToInteractive(key) {\n",
              "          const element = document.querySelector('#df-d3eaeabf-1521-4ea0-841b-0defbc28caae');\n",
              "          const dataTable =\n",
              "            await google.colab.kernel.invokeFunction('convertToInteractive',\n",
              "                                                     [key], {});\n",
              "          if (!dataTable) return;\n",
              "\n",
              "          const docLinkHtml = 'Like what you see? Visit the ' +\n",
              "            '<a target=\"_blank\" href=https://colab.research.google.com/notebooks/data_table.ipynb>data table notebook</a>'\n",
              "            + ' to learn more about interactive tables.';\n",
              "          element.innerHTML = '';\n",
              "          dataTable['output_type'] = 'display_data';\n",
              "          await google.colab.output.renderOutput(dataTable, element);\n",
              "          const docLink = document.createElement('div');\n",
              "          docLink.innerHTML = docLinkHtml;\n",
              "          element.appendChild(docLink);\n",
              "        }\n",
              "      </script>\n",
              "    </div>\n",
              "  </div>\n",
              "  "
            ],
            "text/plain": [
              "    airline    flight  source_city  departure_time     stops  arrival_time  \\\n",
              "0 -1.693633  0.294503     0.241134        1.472212  0.190121     -0.042537   \n",
              "1  1.033746  1.079615    -0.329721        0.902176  0.190121      1.105790   \n",
              "2  1.033746  0.882751    -1.471431       -0.807934 -2.321779      0.531627   \n",
              "3 -1.148157 -0.872619    -0.900576        0.902176  0.190121     -0.616701   \n",
              "4 -0.057206 -2.496747     0.241134       -0.807934 -2.321779     -1.190865   \n",
              "\n",
              "   destination_city     class  duration  days_left  stops_duration_product  \\\n",
              "0         -0.337225  0.672576 -1.108320   0.663318               -0.942267   \n",
              "1         -0.910442 -1.486822  0.282117   1.621951                0.181330   \n",
              "2         -0.337225  0.672576 -1.328009  -0.369055               -1.419796   \n",
              "3          1.382425 -1.486822 -0.575783   0.294614               -0.511929   \n",
              "4         -0.910442  0.672576 -1.525451   1.105764               -1.419796   \n",
              "\n",
              "   stops_duration_ratio  \n",
              "0              2.597952  \n",
              "1             -0.272138  \n",
              "2             -1.491927  \n",
              "3              0.659309  \n",
              "4             -1.491927  "
            ]
          },
          "execution_count": 32,
          "metadata": {},
          "output_type": "execute_result"
        }
      ],
      "source": [
        "test_set.head()"
      ]
    },
    {
      "cell_type": "code",
      "execution_count": 36,
      "metadata": {
        "colab": {
          "base_uri": "https://localhost:8080/"
        },
        "id": "J5VTNW0gCDNt",
        "outputId": "9a15442a-468f-4e12-df92-841e2b2c1a70"
      },
      "outputs": [
        {
          "data": {
            "text/plain": [
              "10329"
            ]
          },
          "execution_count": 36,
          "metadata": {},
          "output_type": "execute_result"
        }
      ],
      "source": [
        "y_pred = dec_tree.predict(test_set)\n",
        "len(np.unique(y_pred, return_counts=True)[0])"
      ]
    },
    {
      "cell_type": "code",
      "execution_count": 37,
      "metadata": {
        "colab": {
          "base_uri": "https://localhost:8080/"
        },
        "id": "umzZJjB2CXyg",
        "outputId": "eda18cfd-32ee-4740-f57a-849be8c8e308"
      },
      "outputs": [
        {
          "data": {
            "text/plain": [
              "10684"
            ]
          },
          "execution_count": 37,
          "metadata": {},
          "output_type": "execute_result"
        }
      ],
      "source": [
        "len(np.unique(y_train, return_counts=True)[0])"
      ]
    },
    {
      "cell_type": "code",
      "execution_count": 39,
      "metadata": {
        "colab": {
          "base_uri": "https://localhost:8080/",
          "height": 252
        },
        "id": "rsHQHj7FCg42",
        "outputId": "2eb381d0-3892-40e2-c425-6150cf27f001"
      },
      "outputs": [
        {
          "data": {
            "text/html": [
              "\n",
              "  <div id=\"df-e036ab69-538d-498c-9933-fae35a8ca285\">\n",
              "    <div class=\"colab-df-container\">\n",
              "      <div>\n",
              "<style scoped>\n",
              "    .dataframe tbody tr th:only-of-type {\n",
              "        vertical-align: middle;\n",
              "    }\n",
              "\n",
              "    .dataframe tbody tr th {\n",
              "        vertical-align: top;\n",
              "    }\n",
              "\n",
              "    .dataframe thead th {\n",
              "        text-align: right;\n",
              "    }\n",
              "</style>\n",
              "<table border=\"1\" class=\"dataframe\">\n",
              "  <thead>\n",
              "    <tr style=\"text-align: right;\">\n",
              "      <th></th>\n",
              "      <th>price</th>\n",
              "    </tr>\n",
              "    <tr>\n",
              "      <th>index</th>\n",
              "      <th></th>\n",
              "    </tr>\n",
              "  </thead>\n",
              "  <tbody>\n",
              "    <tr>\n",
              "      <th>156589</th>\n",
              "      <td>2851.000000</td>\n",
              "    </tr>\n",
              "    <tr>\n",
              "      <th>224900</th>\n",
              "      <td>60232.000000</td>\n",
              "    </tr>\n",
              "    <tr>\n",
              "      <th>87968</th>\n",
              "      <td>4506.466403</td>\n",
              "    </tr>\n",
              "    <tr>\n",
              "      <th>292192</th>\n",
              "      <td>49553.000000</td>\n",
              "    </tr>\n",
              "    <tr>\n",
              "      <th>179722</th>\n",
              "      <td>1553.265306</td>\n",
              "    </tr>\n",
              "  </tbody>\n",
              "</table>\n",
              "</div>\n",
              "      <button class=\"colab-df-convert\" onclick=\"convertToInteractive('df-e036ab69-538d-498c-9933-fae35a8ca285')\"\n",
              "              title=\"Convert this dataframe to an interactive table.\"\n",
              "              style=\"display:none;\">\n",
              "        \n",
              "  <svg xmlns=\"http://www.w3.org/2000/svg\" height=\"24px\"viewBox=\"0 0 24 24\"\n",
              "       width=\"24px\">\n",
              "    <path d=\"M0 0h24v24H0V0z\" fill=\"none\"/>\n",
              "    <path d=\"M18.56 5.44l.94 2.06.94-2.06 2.06-.94-2.06-.94-.94-2.06-.94 2.06-2.06.94zm-11 1L8.5 8.5l.94-2.06 2.06-.94-2.06-.94L8.5 2.5l-.94 2.06-2.06.94zm10 10l.94 2.06.94-2.06 2.06-.94-2.06-.94-.94-2.06-.94 2.06-2.06.94z\"/><path d=\"M17.41 7.96l-1.37-1.37c-.4-.4-.92-.59-1.43-.59-.52 0-1.04.2-1.43.59L10.3 9.45l-7.72 7.72c-.78.78-.78 2.05 0 2.83L4 21.41c.39.39.9.59 1.41.59.51 0 1.02-.2 1.41-.59l7.78-7.78 2.81-2.81c.8-.78.8-2.07 0-2.86zM5.41 20L4 18.59l7.72-7.72 1.47 1.35L5.41 20z\"/>\n",
              "  </svg>\n",
              "      </button>\n",
              "      \n",
              "  <style>\n",
              "    .colab-df-container {\n",
              "      display:flex;\n",
              "      flex-wrap:wrap;\n",
              "      gap: 12px;\n",
              "    }\n",
              "\n",
              "    .colab-df-convert {\n",
              "      background-color: #E8F0FE;\n",
              "      border: none;\n",
              "      border-radius: 50%;\n",
              "      cursor: pointer;\n",
              "      display: none;\n",
              "      fill: #1967D2;\n",
              "      height: 32px;\n",
              "      padding: 0 0 0 0;\n",
              "      width: 32px;\n",
              "    }\n",
              "\n",
              "    .colab-df-convert:hover {\n",
              "      background-color: #E2EBFA;\n",
              "      box-shadow: 0px 1px 2px rgba(60, 64, 67, 0.3), 0px 1px 3px 1px rgba(60, 64, 67, 0.15);\n",
              "      fill: #174EA6;\n",
              "    }\n",
              "\n",
              "    [theme=dark] .colab-df-convert {\n",
              "      background-color: #3B4455;\n",
              "      fill: #D2E3FC;\n",
              "    }\n",
              "\n",
              "    [theme=dark] .colab-df-convert:hover {\n",
              "      background-color: #434B5C;\n",
              "      box-shadow: 0px 1px 3px 1px rgba(0, 0, 0, 0.15);\n",
              "      filter: drop-shadow(0px 1px 2px rgba(0, 0, 0, 0.3));\n",
              "      fill: #FFFFFF;\n",
              "    }\n",
              "  </style>\n",
              "\n",
              "      <script>\n",
              "        const buttonEl =\n",
              "          document.querySelector('#df-e036ab69-538d-498c-9933-fae35a8ca285 button.colab-df-convert');\n",
              "        buttonEl.style.display =\n",
              "          google.colab.kernel.accessAllowed ? 'block' : 'none';\n",
              "\n",
              "        async function convertToInteractive(key) {\n",
              "          const element = document.querySelector('#df-e036ab69-538d-498c-9933-fae35a8ca285');\n",
              "          const dataTable =\n",
              "            await google.colab.kernel.invokeFunction('convertToInteractive',\n",
              "                                                     [key], {});\n",
              "          if (!dataTable) return;\n",
              "\n",
              "          const docLinkHtml = 'Like what you see? Visit the ' +\n",
              "            '<a target=\"_blank\" href=https://colab.research.google.com/notebooks/data_table.ipynb>data table notebook</a>'\n",
              "            + ' to learn more about interactive tables.';\n",
              "          element.innerHTML = '';\n",
              "          dataTable['output_type'] = 'display_data';\n",
              "          await google.colab.output.renderOutput(dataTable, element);\n",
              "          const docLink = document.createElement('div');\n",
              "          docLink.innerHTML = docLinkHtml;\n",
              "          element.appendChild(docLink);\n",
              "        }\n",
              "      </script>\n",
              "    </div>\n",
              "  </div>\n",
              "  "
            ],
            "text/plain": [
              "               price\n",
              "index               \n",
              "156589   2851.000000\n",
              "224900  60232.000000\n",
              "87968    4506.466403\n",
              "292192  49553.000000\n",
              "179722   1553.265306"
            ]
          },
          "execution_count": 39,
          "metadata": {},
          "output_type": "execute_result"
        }
      ],
      "source": [
        "index = pd.read_csv('/content/test_set.csv', index_col='index').index\n",
        "results_df = pd.DataFrame({'price': y_pred})\n",
        "results_df.index = index\n",
        "results_df.head()"
      ]
    },
    {
      "cell_type": "code",
      "execution_count": 40,
      "metadata": {
        "id": "7GbmPa48C0Ew"
      },
      "outputs": [],
      "source": [
        "results_df.to_csv('sample_submission.csv', index=True)"
      ]
    },
    {
      "cell_type": "markdown",
      "metadata": {
        "id": "JicEZwoPo1LI"
      },
      "source": [
        "## Task 5:\n",
        "Convert the notebook into html:\n",
        "\n",
        "\n",
        "1.   Download the notebook by clicking the File tab\n",
        "2.   Upload it to this environment\n",
        "3.   Run the command:\n"
      ]
    },
    {
      "cell_type": "code",
      "execution_count": null,
      "metadata": {
        "id": "3inUMkKWh6E7"
      },
      "outputs": [],
      "source": [
        "jupyter nbconvert --to html Lab3.ipynb"
      ]
    }
  ],
  "metadata": {
    "colab": {
      "provenance": []
    },
    "kernelspec": {
      "display_name": "Python 3",
      "name": "python3"
    },
    "language_info": {
      "name": "python"
    }
  },
  "nbformat": 4,
  "nbformat_minor": 0
}
