{
  "cells": [
    {
      "cell_type": "markdown",
      "metadata": {
        "id": "kbkB6pGUU44v"
      },
      "source": [
        "# Lab 4 - Discretization\n"
      ]
    },
    {
      "cell_type": "markdown",
      "metadata": {
        "id": "mR0KISnzatAU"
      },
      "source": [
        "using kaggle.json file from the first lab, load this lab's data:\n",
        "\n",
        "You suppose to have 1 file:\n",
        "\n",
        "imdb-data.zip"
      ]
    },
    {
      "cell_type": "code",
      "execution_count": 1,
      "metadata": {
        "colab": {
          "base_uri": "https://localhost:8080/"
        },
        "id": "N4Tbgbl5YyFP",
        "outputId": "24c1e304-ef87-48fd-bc1f-8fe94b03a53d"
      },
      "outputs": [
        {
          "name": "stdout",
          "output_type": "stream",
          "text": [
            "Downloading imdb-data.zip to /content\n",
            "100% 134k/134k [00:00<00:00, 442kB/s]\n",
            "100% 134k/134k [00:00<00:00, 441kB/s]\n",
            "Archive:  imdb-data.zip\n",
            "  inflating: IMDB-Movie-Data.csv     \n"
          ]
        }
      ],
      "source": [
        "! mkdir ~/.kaggle\n",
        "! cp kaggle.json ~/.kaggle/\n",
        "! chmod 600 ~/.kaggle/kaggle.json\n",
        "! kaggle datasets download -d PromptCloudHQ/imdb-data\n",
        "! unzip imdb-data.zip"
      ]
    },
    {
      "cell_type": "markdown",
      "metadata": {
        "id": "nmWqYWbRam1A"
      },
      "source": [
        "\n",
        "Discretization is processs of taking continuous  variables and transforming them into discrete  variables.\n",
        "\n",
        "Wannna know why? read more [here](https://medium.com/codex/data-discretization-b5faa2b77f06)\n",
        "\n",
        "\n",
        "In this Lab we will apply two basic **unsupervised** discretization methods using pandas, and one **supervised** method.\n"
      ]
    },
    {
      "cell_type": "markdown",
      "metadata": {
        "id": "5oBs518paN_p"
      },
      "source": [
        "## About the data"
      ]
    },
    {
      "cell_type": "markdown",
      "metadata": {
        "id": "qJmH52LDbDDS"
      },
      "source": [
        "The dataset hold the [Top '06 - '16 Films from IMDB](https://www.kaggle.com/datasets/PromptCloudHQ/imdb-data). \n",
        "\n",
        "\n",
        "Today we will try discretization methods on the numerical attributes of the dataset."
      ]
    },
    {
      "cell_type": "code",
      "execution_count": 3,
      "metadata": {
        "colab": {
          "base_uri": "https://localhost:8080/",
          "height": 593
        },
        "id": "FbXt9irJZ7bF",
        "outputId": "292ec842-5656-4323-9e1a-2de44cb86c85"
      },
      "outputs": [
        {
          "data": {
            "text/html": [
              "\n",
              "  <div id=\"df-4e405166-085c-4902-9c15-f54100942875\">\n",
              "    <div class=\"colab-df-container\">\n",
              "      <div>\n",
              "<style scoped>\n",
              "    .dataframe tbody tr th:only-of-type {\n",
              "        vertical-align: middle;\n",
              "    }\n",
              "\n",
              "    .dataframe tbody tr th {\n",
              "        vertical-align: top;\n",
              "    }\n",
              "\n",
              "    .dataframe thead th {\n",
              "        text-align: right;\n",
              "    }\n",
              "</style>\n",
              "<table border=\"1\" class=\"dataframe\">\n",
              "  <thead>\n",
              "    <tr style=\"text-align: right;\">\n",
              "      <th></th>\n",
              "      <th>Title</th>\n",
              "      <th>Genre</th>\n",
              "      <th>Description</th>\n",
              "      <th>Director</th>\n",
              "      <th>Actors</th>\n",
              "      <th>Year</th>\n",
              "      <th>Runtime (Minutes)</th>\n",
              "      <th>Rating</th>\n",
              "      <th>Votes</th>\n",
              "      <th>Revenue (Millions)</th>\n",
              "      <th>Metascore</th>\n",
              "    </tr>\n",
              "    <tr>\n",
              "      <th>Rank</th>\n",
              "      <th></th>\n",
              "      <th></th>\n",
              "      <th></th>\n",
              "      <th></th>\n",
              "      <th></th>\n",
              "      <th></th>\n",
              "      <th></th>\n",
              "      <th></th>\n",
              "      <th></th>\n",
              "      <th></th>\n",
              "      <th></th>\n",
              "    </tr>\n",
              "  </thead>\n",
              "  <tbody>\n",
              "    <tr>\n",
              "      <th>1</th>\n",
              "      <td>Guardians of the Galaxy</td>\n",
              "      <td>Action,Adventure,Sci-Fi</td>\n",
              "      <td>A group of intergalactic criminals are forced ...</td>\n",
              "      <td>James Gunn</td>\n",
              "      <td>Chris Pratt, Vin Diesel, Bradley Cooper, Zoe S...</td>\n",
              "      <td>2014</td>\n",
              "      <td>121</td>\n",
              "      <td>8.1</td>\n",
              "      <td>757074</td>\n",
              "      <td>333.13</td>\n",
              "      <td>76.0</td>\n",
              "    </tr>\n",
              "    <tr>\n",
              "      <th>2</th>\n",
              "      <td>Prometheus</td>\n",
              "      <td>Adventure,Mystery,Sci-Fi</td>\n",
              "      <td>Following clues to the origin of mankind, a te...</td>\n",
              "      <td>Ridley Scott</td>\n",
              "      <td>Noomi Rapace, Logan Marshall-Green, Michael Fa...</td>\n",
              "      <td>2012</td>\n",
              "      <td>124</td>\n",
              "      <td>7.0</td>\n",
              "      <td>485820</td>\n",
              "      <td>126.46</td>\n",
              "      <td>65.0</td>\n",
              "    </tr>\n",
              "    <tr>\n",
              "      <th>3</th>\n",
              "      <td>Split</td>\n",
              "      <td>Horror,Thriller</td>\n",
              "      <td>Three girls are kidnapped by a man with a diag...</td>\n",
              "      <td>M. Night Shyamalan</td>\n",
              "      <td>James McAvoy, Anya Taylor-Joy, Haley Lu Richar...</td>\n",
              "      <td>2016</td>\n",
              "      <td>117</td>\n",
              "      <td>7.3</td>\n",
              "      <td>157606</td>\n",
              "      <td>138.12</td>\n",
              "      <td>62.0</td>\n",
              "    </tr>\n",
              "    <tr>\n",
              "      <th>4</th>\n",
              "      <td>Sing</td>\n",
              "      <td>Animation,Comedy,Family</td>\n",
              "      <td>In a city of humanoid animals, a hustling thea...</td>\n",
              "      <td>Christophe Lourdelet</td>\n",
              "      <td>Matthew McConaughey,Reese Witherspoon, Seth Ma...</td>\n",
              "      <td>2016</td>\n",
              "      <td>108</td>\n",
              "      <td>7.2</td>\n",
              "      <td>60545</td>\n",
              "      <td>270.32</td>\n",
              "      <td>59.0</td>\n",
              "    </tr>\n",
              "    <tr>\n",
              "      <th>5</th>\n",
              "      <td>Suicide Squad</td>\n",
              "      <td>Action,Adventure,Fantasy</td>\n",
              "      <td>A secret government agency recruits some of th...</td>\n",
              "      <td>David Ayer</td>\n",
              "      <td>Will Smith, Jared Leto, Margot Robbie, Viola D...</td>\n",
              "      <td>2016</td>\n",
              "      <td>123</td>\n",
              "      <td>6.2</td>\n",
              "      <td>393727</td>\n",
              "      <td>325.02</td>\n",
              "      <td>40.0</td>\n",
              "    </tr>\n",
              "  </tbody>\n",
              "</table>\n",
              "</div>\n",
              "      <button class=\"colab-df-convert\" onclick=\"convertToInteractive('df-4e405166-085c-4902-9c15-f54100942875')\"\n",
              "              title=\"Convert this dataframe to an interactive table.\"\n",
              "              style=\"display:none;\">\n",
              "        \n",
              "  <svg xmlns=\"http://www.w3.org/2000/svg\" height=\"24px\"viewBox=\"0 0 24 24\"\n",
              "       width=\"24px\">\n",
              "    <path d=\"M0 0h24v24H0V0z\" fill=\"none\"/>\n",
              "    <path d=\"M18.56 5.44l.94 2.06.94-2.06 2.06-.94-2.06-.94-.94-2.06-.94 2.06-2.06.94zm-11 1L8.5 8.5l.94-2.06 2.06-.94-2.06-.94L8.5 2.5l-.94 2.06-2.06.94zm10 10l.94 2.06.94-2.06 2.06-.94-2.06-.94-.94-2.06-.94 2.06-2.06.94z\"/><path d=\"M17.41 7.96l-1.37-1.37c-.4-.4-.92-.59-1.43-.59-.52 0-1.04.2-1.43.59L10.3 9.45l-7.72 7.72c-.78.78-.78 2.05 0 2.83L4 21.41c.39.39.9.59 1.41.59.51 0 1.02-.2 1.41-.59l7.78-7.78 2.81-2.81c.8-.78.8-2.07 0-2.86zM5.41 20L4 18.59l7.72-7.72 1.47 1.35L5.41 20z\"/>\n",
              "  </svg>\n",
              "      </button>\n",
              "      \n",
              "  <style>\n",
              "    .colab-df-container {\n",
              "      display:flex;\n",
              "      flex-wrap:wrap;\n",
              "      gap: 12px;\n",
              "    }\n",
              "\n",
              "    .colab-df-convert {\n",
              "      background-color: #E8F0FE;\n",
              "      border: none;\n",
              "      border-radius: 50%;\n",
              "      cursor: pointer;\n",
              "      display: none;\n",
              "      fill: #1967D2;\n",
              "      height: 32px;\n",
              "      padding: 0 0 0 0;\n",
              "      width: 32px;\n",
              "    }\n",
              "\n",
              "    .colab-df-convert:hover {\n",
              "      background-color: #E2EBFA;\n",
              "      box-shadow: 0px 1px 2px rgba(60, 64, 67, 0.3), 0px 1px 3px 1px rgba(60, 64, 67, 0.15);\n",
              "      fill: #174EA6;\n",
              "    }\n",
              "\n",
              "    [theme=dark] .colab-df-convert {\n",
              "      background-color: #3B4455;\n",
              "      fill: #D2E3FC;\n",
              "    }\n",
              "\n",
              "    [theme=dark] .colab-df-convert:hover {\n",
              "      background-color: #434B5C;\n",
              "      box-shadow: 0px 1px 3px 1px rgba(0, 0, 0, 0.15);\n",
              "      filter: drop-shadow(0px 1px 2px rgba(0, 0, 0, 0.3));\n",
              "      fill: #FFFFFF;\n",
              "    }\n",
              "  </style>\n",
              "\n",
              "      <script>\n",
              "        const buttonEl =\n",
              "          document.querySelector('#df-4e405166-085c-4902-9c15-f54100942875 button.colab-df-convert');\n",
              "        buttonEl.style.display =\n",
              "          google.colab.kernel.accessAllowed ? 'block' : 'none';\n",
              "\n",
              "        async function convertToInteractive(key) {\n",
              "          const element = document.querySelector('#df-4e405166-085c-4902-9c15-f54100942875');\n",
              "          const dataTable =\n",
              "            await google.colab.kernel.invokeFunction('convertToInteractive',\n",
              "                                                     [key], {});\n",
              "          if (!dataTable) return;\n",
              "\n",
              "          const docLinkHtml = 'Like what you see? Visit the ' +\n",
              "            '<a target=\"_blank\" href=https://colab.research.google.com/notebooks/data_table.ipynb>data table notebook</a>'\n",
              "            + ' to learn more about interactive tables.';\n",
              "          element.innerHTML = '';\n",
              "          dataTable['output_type'] = 'display_data';\n",
              "          await google.colab.output.renderOutput(dataTable, element);\n",
              "          const docLink = document.createElement('div');\n",
              "          docLink.innerHTML = docLinkHtml;\n",
              "          element.appendChild(docLink);\n",
              "        }\n",
              "      </script>\n",
              "    </div>\n",
              "  </div>\n",
              "  "
            ],
            "text/plain": [
              "                        Title                     Genre  \\\n",
              "Rank                                                      \n",
              "1     Guardians of the Galaxy   Action,Adventure,Sci-Fi   \n",
              "2                  Prometheus  Adventure,Mystery,Sci-Fi   \n",
              "3                       Split           Horror,Thriller   \n",
              "4                        Sing   Animation,Comedy,Family   \n",
              "5               Suicide Squad  Action,Adventure,Fantasy   \n",
              "\n",
              "                                            Description              Director  \\\n",
              "Rank                                                                            \n",
              "1     A group of intergalactic criminals are forced ...            James Gunn   \n",
              "2     Following clues to the origin of mankind, a te...          Ridley Scott   \n",
              "3     Three girls are kidnapped by a man with a diag...    M. Night Shyamalan   \n",
              "4     In a city of humanoid animals, a hustling thea...  Christophe Lourdelet   \n",
              "5     A secret government agency recruits some of th...            David Ayer   \n",
              "\n",
              "                                                 Actors  Year  \\\n",
              "Rank                                                            \n",
              "1     Chris Pratt, Vin Diesel, Bradley Cooper, Zoe S...  2014   \n",
              "2     Noomi Rapace, Logan Marshall-Green, Michael Fa...  2012   \n",
              "3     James McAvoy, Anya Taylor-Joy, Haley Lu Richar...  2016   \n",
              "4     Matthew McConaughey,Reese Witherspoon, Seth Ma...  2016   \n",
              "5     Will Smith, Jared Leto, Margot Robbie, Viola D...  2016   \n",
              "\n",
              "      Runtime (Minutes)  Rating   Votes  Revenue (Millions)  Metascore  \n",
              "Rank                                                                    \n",
              "1                   121     8.1  757074              333.13       76.0  \n",
              "2                   124     7.0  485820              126.46       65.0  \n",
              "3                   117     7.3  157606              138.12       62.0  \n",
              "4                   108     7.2   60545              270.32       59.0  \n",
              "5                   123     6.2  393727              325.02       40.0  "
            ]
          },
          "execution_count": 3,
          "metadata": {},
          "output_type": "execute_result"
        }
      ],
      "source": [
        "import pandas as pd\n",
        "import matplotlib.pyplot as plt\n",
        "import seaborn as sns\n",
        "\n",
        "df = pd.read_csv('IMDB-Movie-Data.csv' , index_col=  'Rank')\n",
        "numeric_att = ['Year', 'Runtime (Minutes)' ,\t'Rating' ,\t'Votes' ,\t'Revenue (Millions)' ,\t'Metascore']\n",
        "df[numeric_att] = df[numeric_att].apply(pd.to_numeric, errors = 'coerce')\n",
        "df.head(5)"
      ]
    },
    {
      "cell_type": "markdown",
      "metadata": {
        "id": "ZnrDJydtcpz_"
      },
      "source": [
        "The current distribution of the **'Revenue (Millions)'** attribute is:"
      ]
    },
    {
      "cell_type": "code",
      "execution_count": 4,
      "metadata": {
        "colab": {
          "base_uri": "https://localhost:8080/",
          "height": 470
        },
        "id": "PIYlesQfc34A",
        "outputId": "d9b8d11b-4c38-42e8-f679-464d4c9fea30"
      },
      "outputs": [
        {
          "data": {
            "image/png": "[encoded data removed]",
            "text/plain": [
              "<Figure size 640x480 with 1 Axes>"
            ]
          },
          "metadata": {},
          "output_type": "display_data"
        }
      ],
      "source": [
        "g = sns.histplot(data=df, x='Revenue (Millions)' , bins=10)"
      ]
    },
    {
      "cell_type": "markdown",
      "metadata": {
        "id": "ZSgQx91cRFiv"
      },
      "source": [
        "##**Unsupervised Discretization Methods**\n",
        "\n",
        "Many Methods exists, we will explore two basic ones - Equal width and Equal frequency."
      ]
    },
    {
      "cell_type": "markdown",
      "metadata": {
        "id": "MLqmvRK8b3vw"
      },
      "source": [
        "\n",
        "\n",
        "##**Equal Width**\n",
        "\n",
        "Split the numeric attribute to n bins - every bin should have the same length.\n",
        "\n",
        "\n"
      ]
    },
    {
      "cell_type": "markdown",
      "metadata": {
        "id": "35EOG8dEcaWp"
      },
      "source": [
        "## Task 1:\n",
        "\n",
        "using pandas [cut](https://pandas.pydata.org/pandas-docs/stable/reference/api/pandas.cut.html) method, split the **'Revenue (Millions)'** attribute into Equal width bins of size 10.\n",
        "\n",
        "Hint - That exactly what sns.histplot does, as plotted above.\n",
        "\n",
        "Print the resulting bins thresholds."
      ]
    },
    {
      "cell_type": "code",
      "execution_count": 11,
      "metadata": {
        "colab": {
          "base_uri": "https://localhost:8080/"
        },
        "id": "PjbDO5qfmzEY",
        "outputId": "a0fe4b31-ef67-4cd6-aae8-f97d61fd88a7"
      },
      "outputs": [
        {
          "data": {
            "text/plain": [
              "array([ -0.93663,  93.663  , 187.326  , 280.989  , 374.652  , 468.315  ,\n",
              "       561.978  , 655.641  , 749.304  , 842.967  , 936.63   ])"
            ]
          },
          "execution_count": 11,
          "metadata": {},
          "output_type": "execute_result"
        }
      ],
      "source": [
        "splitted_rev, bins_rev = pd.cut(df['Revenue (Millions)'], 10, retbins=True)\n",
        "bins_rev"
      ]
    },
    {
      "cell_type": "markdown",
      "metadata": {
        "id": "aDOMRaoioQNs"
      },
      "source": [
        "\n",
        "\n",
        "##**Equal Frequency**\n",
        "\n",
        "Split the numeric attribute to n bins - every bin should be the **same size** (number of records).\n",
        "\n",
        "Take notice - the bins should be approximately the same size, usually the data isn't rich enough for equal partition.\n"
      ]
    },
    {
      "cell_type": "markdown",
      "metadata": {
        "id": "207-8lPQkfvS"
      },
      "source": [
        "## Task 2:\n",
        "\n",
        "using pandas [qcut](https://pandas.pydata.org/pandas-docs/stable/reference/api/pandas.qcut.html) method, split the Stars attribute into 10 Equal frequency bins.\n",
        "\n",
        "Plot the resulting bins."
      ]
    },
    {
      "cell_type": "code",
      "execution_count": 13,
      "metadata": {
        "colab": {
          "base_uri": "https://localhost:8080/"
        },
        "id": "XuAVS5jORCw3",
        "outputId": "d646afb6-e434-431b-ec13-4ef8813312be"
      },
      "outputs": [
        {
          "data": {
            "text/plain": [
              "array([1.9, 5.5, 6. , 6.3, 6.6, 6.8, 7. , 7.3, 7.5, 7.9, 9. ])"
            ]
          },
          "execution_count": 13,
          "metadata": {},
          "output_type": "execute_result"
        }
      ],
      "source": [
        "splitted_rate, bins_rate = pd.qcut(df['Rating'], 10, retbins=True)\n",
        "bins_rate"
      ]
    },
    {
      "cell_type": "code",
      "execution_count": 34,
      "metadata": {
        "id": "Oke7bu_0TLGu"
      },
      "outputs": [],
      "source": [
        "df['splitted_rate'] = splitted_rate.apply(lambda x: x.mid).values"
      ]
    },
    {
      "cell_type": "code",
      "execution_count": 40,
      "metadata": {
        "colab": {
          "base_uri": "https://localhost:8080/",
          "height": 471
        },
        "id": "qm6jSgsbSu7X",
        "outputId": "20af3ff1-d3da-4ae6-97b8-74b24c240568"
      },
      "outputs": [
        {
          "data": {
            "image/png": "[encoded data removed]",
            "text/plain": [
              "<Figure size 640x480 with 1 Axes>"
            ]
          },
          "metadata": {},
          "output_type": "display_data"
        }
      ],
      "source": [
        "g = sns.histplot(data=df, x='splitted_rate', bins=10)"
      ]
    },
    {
      "cell_type": "markdown",
      "metadata": {
        "id": "hHOOjZpQouvp"
      },
      "source": [
        "## Task 3:\n",
        "\n",
        "Pandas cut method can split numerical attributes to non - equal bins. \n",
        "\n",
        "\n",
        "Transform the **Rating** to be discrete, using pandas cut method.\n",
        "The new labels should be:\n",
        "\n",
        "*   [0, 5] → 'bad'\n",
        "*   (5, 7.5] → 'mid'\n",
        "*   (8, 10] → 'great'\n",
        "\n",
        "Hint - use bins and labels arguments.\n"
      ]
    },
    {
      "cell_type": "code",
      "execution_count": 43,
      "metadata": {
        "colab": {
          "base_uri": "https://localhost:8080/"
        },
        "id": "LrML6Nswqnkn",
        "outputId": "60fb97ec-cfb2-46c4-ba67-ba6312db1d49"
      },
      "outputs": [
        {
          "data": {
            "text/plain": [
              "array([1.8929    , 4.26666667, 6.63333333, 9.        ])"
            ]
          },
          "execution_count": 43,
          "metadata": {},
          "output_type": "execute_result"
        }
      ],
      "source": [
        "splitted_rating, bins_rating = pd.cut(df['Rating'], bins=3,\n",
        "                                       labels=['bad', 'mid', 'great'], retbins=True)\n",
        "bins_rating"
      ]
    },
    {
      "cell_type": "code",
      "execution_count": 44,
      "metadata": {
        "colab": {
          "base_uri": "https://localhost:8080/"
        },
        "id": "9DJP5L6yW-hT",
        "outputId": "0dde8117-dcb9-48d6-e21a-099532d0882e"
      },
      "outputs": [
        {
          "data": {
            "text/plain": [
              "Rank\n",
              "1       great\n",
              "2       great\n",
              "3       great\n",
              "4       great\n",
              "5         mid\n",
              "        ...  \n",
              "996       mid\n",
              "997       mid\n",
              "998       mid\n",
              "999       mid\n",
              "1000      mid\n",
              "Name: Rating, Length: 1000, dtype: category\n",
              "Categories (3, object): ['bad' < 'mid' < 'great']"
            ]
          },
          "execution_count": 44,
          "metadata": {},
          "output_type": "execute_result"
        }
      ],
      "source": [
        "splitted_rating"
      ]
    },
    {
      "cell_type": "markdown",
      "metadata": {
        "id": "I0s_ZEKNcV4c"
      },
      "source": [
        "##Supervised"
      ]
    },
    {
      "cell_type": "markdown",
      "metadata": {
        "id": "crfqC6bBrglH"
      },
      "source": [
        "A basic step in the Info-Fuzzy Network construciton procedure is the Conditional Mutual Information calculation per Node.\n",
        "\n",
        "The procedure finds the best threhold to split an ordinal attribute based on the target attribute.\n",
        "\n",
        "\n",
        "\n",
        "![Capture.JPG](data:image/jpeg;base64,/9j/4AAQSkZJRgABAQEAeAB4AAD/4RDuRXhpZgAATU0AKgAAAAgABAE7AAIAAAAMAAAISodpAAQAAAABAAAIVpydAAEAAAAYAAAQzuocAAcAAAgMAAAAPgAAAAAc6gAAAAgAAAAAAAAAAAAAAAAAAAAAAAAAAAAAAAAAAAAAAAAAAAAAAAAAAAAAAAAAAAAAAAAAAAAAAAAAAAAAAAAAAAAAAAAAAAAAAAAAAAAAAAAAAAAAAAAAAAAAAAAAAAAAAAAAAAAAAAAAAAAAAAAAAAAAAAAAAAAAAAAAAAAAAAAAAAAAAAAAAAAAAAAAAAAAAAAAAAAAAAAAAAAAAAAAAAAAAAAAAAAAAAAAAAAAAAAAAAAAAAAAAAAAAAAAAAAAAAAAAAAAAAAAAAAAAAAAAAAAAAAAAAAAAAAAAAAAAAAAAAAAAAAAAAAAAAAAAAAAAAAAAAAAAAAAAAAAAAAAAAAAAAAAAAAAAAAAAAAAAAAAAAAAAAAAAAAAAAAAAAAAAAAAAAAAAAAAAAAAAAAAAAAAAAAAAAAAAAAAAAAAAAAAAAAAAAAAAAAAAAAAAAAAAAAAAAAAAAAAAAAAAAAAAAAAAAAAAAAAAAAAAAAAAAAAAAAAAAAAAAAAAAAAAAAAAAAAAAAAAAAAAAAAAAAAAAAAAAAAAAAAAAAAAAAAAAAAAAAAAAAAAAAAAAAAAAAAAAAAAAAAAAAAAAAAAAAAAAAAAAAAAAAAAAAAAAAAAAAAAAAAAAAAAAAAAAAAAAAAAAAAAAAAAAAAAAAAAAAAAAAAAAAAAAAAAAAAAAAAAAAAAAAAAAAAAAAAAAAAAAAAAAAAAAAAAAAAAAAAAAAAAAAAAAAAAAAAAAAAAAAAAAAAAAAAAAAAAAAAAAAAAAAAAAAAAAAAAAAAAAAAAAAAAAAAAAAAAAAAAAAAAAAAAAAAAAAAAAAAAAAAAAAAAAAAAAAAAAAAAAAAAAAAAAAAAAAAAAAAAAAAAAAAAAAAAAAAAAAAAAAAAAAAAAAAAAAAAAAAAAAAAAAAAAAAAAAAAAAAAAAAAAAAAAAAAAAAAAAAAAAAAAAAAAAAAAAAAAAAAAAAAAAAAAAAAAAAAAAAAAAAAAAAAAAAAAAAAAAAAAAAAAAAAAAAAAAAAAAAAAAAAAAAAAAAAAAAAAAAAAAAAAAAAAAAAAAAAAAAAAAAAAAAAAAAAAAAAAAAAAAAAAAAAAAAAAAAAAAAAAAAAAAAAAAAAAAAAAAAAAAAAAAAAAAAAAAAAAAAAAAAAAAAAAAAAAAAAAAAAAAAAAAAAAAAAAAAAAAAAAAAAAAAAAAAAAAAAAAAAAAAAAAAAAAAAAAAAAAAAAAAAAAAAAAAAAAAAAAAAAAAAAAAAAAAAAAAAAAAAAAAAAAAAAAAAAAAAAAAAAAAAAAAAAAAAAAAAAAAAAAAAAAAAAAAAAAAAAAAAAAAAAAAAAAAAAAAAAAAAAAAAAAAAAAAAAAAAAAAAAAAAAAAAAAAAAAAAAAAAAAAAAAAAAAAAAAAAAAAAAAAAAAAAAAAAAAAAAAAAAAAAAAAAAAAAAAAAAAAAAAAAAAAAAAAAAAAAAAAAAAAAAAAAAAAAAAAAAAAAAAAAAAAAAAAAAAAAAAAAAAAAAAAAAAAAAAAAAAAAAAAAAAAAAAAAAAAAAAAAAAAAAAAAAAAAAAAAAAAAAAAAAAAAAAAAAAAAAAAAAAAAAAAAAAAAAAAAAAAAAAAAAAAAAAAAAAAAAAAAAAAAAAAAAAAAAAAAAAAAAAAAAAAAAAAAAAAAAAAAAAAAAAAAAAAAAAAAAAAAAAAAAAAAAAAAAAAAAAAAAAAAAAAAAAAAAAAAAAAAAAAAAAAAAAAAAAAAAAAAAAAAAAAAAAAAAAAAAAAAAAAAAAAAAAAAAAAAAAAAAAAAAAAAAAAAAAAAAAAAAAAAAAAAAAAAAAAAAAAAAAAAAAAAAAAAAAAAAAAAAAAAAAAAAAAAAAAAAAAAAAAAAAAAAAAAAAAAAAAAAAAAAAAAAAAAAAAAAAAAAAAAAAAAAAAAAAAAAAAAAAAAAAAAAAAAAAAAAAAAAAAAAAAAAAAAAAAAAAAAAAAAAAAAAAAAAAAAAAAAAAAAAAAAAAAAAAAAAAAAAAAAAAAAAAAAAAAAAAAAAAAAAAAAAAAAAAAAAAAAAAAAAAAAAAAAAAAAAAAAAAAAAAAAAAAAAAAAAAAAAAAAAAAAAAAAAAAAAAAAAAAAAAAAAAAAAAAAAAAAAAAAAAAAAAAAAAAAAAAAAAAAAAAAAAAAAAAAAAAAAAAAAAAAAAAAAAAAAAAAAAAAAAAAAAAAAAAAAAAAAAAAAAAAAAAAAAAAAAAAAAAAAAAAAAAAAAAAAAAAAAAAAAAAAAAAAAAAAAAAAAAAAAAAAAAAAAAAAAAAAAAAAAAAAAAAAAAAAAAAAAAAAAAAAAAAAAAAAAAAAAAAAAAAAAAAAAAAAAAAAAAAAAAAAAAAAAAAAAAAAAAAAAAAAAAAAAAAAAAAAAAAAAAAAAAAAAAAAAAAAAAAAAAAAAAAAAAAAAAAAAAAAAAAAAAAAAAAAAAAAAAAAAAAAAAAAAAAAAAAAAAAAAAAAAAAAAAAAAAAAAAAAAAAAAAAAAAAAAAAAAAAAAAAAAAAAAAAAAAAAAAAAAAAAAAAAAAAAAAAAAAAAAAAAAAAAAAAAAAAAAAAAAAAAAAAAAAAAAAAAAAAAAAAAAAAAAAAAAAAAAAAAAAAAAAAAAAAAAAAAAAAAAAAAAAAAAAAAAAAAAAAAAAAAAAAAAAAAAAAAAAAAAAAAAAAAAAAAAAAAAAAAAAAAAAAAAAAAAAAAAAAAAAAAAAAAAAAAAAAAAAAAAAAAAAAAAAAAAAAG5veSBTYWxvbW9uAAAFkAMAAgAAABQAABCkkAQAAgAAABQAABC4kpEAAgAAAAMyMgAAkpIAAgAAAAMyMgAA6hwABwAACAwAAAiYAAAAABzqAAAACAAAAAAAAAAAAAAAAAAAAAAAAAAAAAAAAAAAAAAAAAAAAAAAAAAAAAAAAAAAAAAAAAAAAAAAAAAAAAAAAAAAAAAAAAAAAAAAAAAAAAAAAAAAAAAAAAAAAAAAAAAAAAAAAAAAAAAAAAAAAAAAAAAAAAAAAAAAAAAAAAAAAAAAAAAAAAAAAAAAAAAAAAAAAAAAAAAAAAAAAAAAAAAAAAAAAAAAAAAAAAAAAAAAAAAAAAAAAAAAAAAAAAAAAAAAAAAAAAAAAAAAAAAAAAAAAAAAAAAAAAAAAAAAAAAAAAAAAAAAAAAAAAAAAAAAAAAAAAAAAAAAAAAAAAAAAAAAAAAAAAAAAAAAAAAAAAAAAAAAAAAAAAAAAAAAAAAAAAAAAAAAAAAAAAAAAAAAAAAAAAAAAAAAAAAAAAAAAAAAAAAAAAAAAAAAAAAAAAAAAAAAAAAAAAAAAAAAAAAAAAAAAAAAAAAAAAAAAAAAAAAAAAAAAAAAAAAAAAAAAAAAAAAAAAAAAAAAAAAAAAAAAAAAAAAAAAAAAAAAAAAAAAAAAAAAAAAAAAAAAAAAAAAAAAAAAAAAAAAAAAAAAAAAAAAAAAAAAAAAAAAAAAAAAAAAAAAAAAAAAAAAAAAAAAAAAAAAAAAAAAAAAAAAAAAAAAAAAAAAAAAAAAAAAAAAAAAAAAAAAAAAAAAAAAAAAAAAAAAAAAAAAAAAAAAAAAAAAAAAAAAAAAAAAAAAAAAAAAAAAAAAAAAAAAAAAAAAAAAAAAAAAAAAAAAAAAAAAAAAAAAAAAAAAAAAAAAAAAAAAAAAAAAAAAAAAAAAAAAAAAAAAAAAAAAAAAAAAAAAAAAAAAAAAAAAAAAAAAAAAAAAAAAAAAAAAAAAAAAAAAAAAAAAAAAAAAAAAAAAAAAAAAAAAAAAAAAAAAAAAAAAAAAAAAAAAAAAAAAAAAAAAAAAAAAAAAAAAAAAAAAAAAAAAAAAAAAAAAAAAAAAAAAAAAAAAAAAAAAAAAAAAAAAAAAAAAAAAAAAAAAAAAAAAAAAAAAAAAAAAAAAAAAAAAAAAAAAAAAAAAAAAAAAAAAAAAAAAAAAAAAAAAAAAAAAAAAAAAAAAAAAAAAAAAAAAAAAAAAAAAAAAAAAAAAAAAAAAAAAAAAAAAAAAAAAAAAAAAAAAAAAAAAAAAAAAAAAAAAAAAAAAAAAAAAAAAAAAAAAAAAAAAAAAAAAAAAAAAAAAAAAAAAAAAAAAAAAAAAAAAAAAAAAAAAAAAAAAAAAAAAAAAAAAAAAAAAAAAAAAAAAAAAAAAAAAAAAAAAAAAAAAAAAAAAAAAAAAAAAAAAAAAAAAAAAAAAAAAAAAAAAAAAAAAAAAAAAAAAAAAAAAAAAAAAAAAAAAAAAAAAAAAAAAAAAAAAAAAAAAAAAAAAAAAAAAAAAAAAAAAAAAAAAAAAAAAAAAAAAAAAAAAAAAAAAAAAAAAAAAAAAAAAAAAAAAAAAAAAAAAAAAAAAAAAAAAAAAAAAAAAAAAAAAAAAAAAAAAAAAAAAAAAAAAAAAAAAAAAAAAAAAAAAAAAAAAAAAAAAAAAAAAAAAAAAAAAAAAAAAAAAAAAAAAAAAAAAAAAAAAAAAAAAAAAAAAAAAAAAAAAAAAAAAAAAAAAAAAAAAAAAAAAAAAAAAAAAAAAAAAAAAAAAAAAAAAAAAAAAAAAAAAAAAAAAAAAAAAAAAAAAAAAAAAAAAAAAAAAAAAAAAAAAAAAAAAAAAAAAAAAAAAAAAAAAAAAAAAAAAAAAAAAAAAAAAAAAAAAAAAAAAAAAAAAAAAAAAAAAAAAAAAAAAAAAAAAAAAAAAAAAAAAAAAAAAAAAAAAAAAAAAAAAAAAAAAAAAAAAAAAAAAAAAAAAAAAAAAAAAAAAAAAAAAAAAAAAAAAAAAAAAAAAAAAAAAAAAAAAAAAAAAAAAAAAAAAAAAAAAAAAAAAAAAAAAAAAAAAAAAAAAAAAAAAAAAAAAAAAAAAAAAAAAAAAAAAAAAAAAAAAAAAAAAAAAAAAAAAAAAAAAAAAAAAAAAAAAAAAAAAAAAAAAAAAAAAAAAAAAAAAAAAAAAAAAAAAAAAAAAAAAAAAAAAAAAAAAAAAAAAAAAAAAAAAAAAAAAAAAAAAAAAAAAAAAAAAAAAAAAAAAAAAAAAAAAAAAAAAAAAAAAAAAAAAAAAAAAAAAAAAAAAAAAAAAAAAAAAAAAAAAAAAAAAAAAAAAAAAAAAAAAAAAAAAAAAAAAAAAAAAAAAAAAAAAAAAAAAAAAAAAAAAAAAAAAAAAAAAAAAAAAAAAAAAAAAAAAAAAAAAAAAAAAAAAAAAAAAAAAAAAAAAAAAAAAAAAAAAAAAAAAAAAAAAAAAAAAAAAAAAAAAAAAAAAAAAAAAAAAAAAAAAAAAAAAAAAAAAAAAAAAAAAAAAAAAAAAAAAAAAAAAAAAAAAAAAAAAAAAAAAAAAAAAAAAAAAAAAAAAAAAAAAAAAAAAAAAAAAAAAAAAAAAAAAAAAAAAAAAAAAAAAAAAAAAAAAAAAAAAAAAAAAAAAAAAAAAAAAAAAAAAAAAAAAAAAAAAAAAAAAAAAAAAAAAAAAAAAAAAAAAAAAAAAAAAAAAAAAAAAAAAAAAAAAAAAAAAAAAAAAAAAAAAAAAAAAAAAAAAAAAAAAAAAAAAAAAAAAAAAAAAAAAAAAAAAAAAAAAAAAAAAAAAAAAAAAAAAAAAAAAAAAAAAAAAAAAAAAAAAAAAAAAAAAAAAAAAAMjAyMzowNDowMSAxOTo0MTo1NQAyMDIzOjA0OjAxIDE5OjQxOjU1AAAAbgBvAHkAIABTAGEAbABvAG0AbwBuAAAA/+ELHmh0dHA6Ly9ucy5hZG9iZS5jb20veGFwLzEuMC8APD94cGFja2V0IGJlZ2luPSfvu78nIGlkPSdXNU0wTXBDZWhpSHpyZVN6TlRjemtjOWQnPz4NCjx4OnhtcG1ldGEgeG1sbnM6eD0iYWRvYmU6bnM6bWV0YS8iPjxyZGY6UkRGIHhtbG5zOnJkZj0iaHR0cDovL3d3dy53My5vcmcvMTk5OS8wMi8yMi1yZGYtc3ludGF4LW5zIyI+PHJkZjpEZXNjcmlwdGlvbiByZGY6YWJvdXQ9InV1aWQ6ZmFmNWJkZDUtYmEzZC0xMWRhLWFkMzEtZDMzZDc1MTgyZjFiIiB4bWxuczpkYz0iaHR0cDovL3B1cmwub3JnL2RjL2VsZW1lbnRzLzEuMS8iLz48cmRmOkRlc2NyaXB0aW9uIHJkZjphYm91dD0idXVpZDpmYWY1YmRkNS1iYTNkLTExZGEtYWQzMS1kMzNkNzUxODJmMWIiIHhtbG5zOnhtcD0iaHR0cDovL25zLmFkb2JlLmNvbS94YXAvMS4wLyI+PHhtcDpDcmVhdGVEYXRlPjIwMjMtMDQtMDFUMTk6NDE6NTUuMjE1PC94bXA6Q3JlYXRlRGF0ZT48L3JkZjpEZXNjcmlwdGlvbj48cmRmOkRlc2NyaXB0aW9uIHJkZjphYm91dD0idXVpZDpmYWY1YmRkNS1iYTNkLTExZGEtYWQzMS1kMzNkNzUxODJmMWIiIHhtbG5zOmRjPSJodHRwOi8vcHVybC5vcmcvZGMvZWxlbWVudHMvMS4xLyI+PGRjOmNyZWF0b3I+PHJkZjpTZXEgeG1sbnM6cmRmPSJodHRwOi8vd3d3LnczLm9yZy8xOTk5LzAyLzIyLXJkZi1zeW50YXgtbnMjIj48cmRmOmxpPm5veSBTYWxvbW9uPC9yZGY6bGk+PC9yZGY6U2VxPg0KCQkJPC9kYzpjcmVhdG9yPjwvcmRmOkRlc2NyaXB0aW9uPjwvcmRmOlJERj48L3g6eG1wbWV0YT4NCiAgICAgICAgICAgICAgICAgICAgICAgICAgICAgICAgICAgICAgICAgICAgICAgICAgICAgICAgICAgICAgICAgICAgICAgICAgICAgICAgICAgICAgICAgICAgICAgICAgICAKICAgICAgICAgICAgICAgICAgICAgICAgICAgICAgICAgICAgICAgICAgICAgICAgICAgICAgICAgICAgICAgICAgICAgICAgICAgICAgICAgICAgICAgICAgICAgICAgICAgIAogICAgICAgICAgICAgICAgICAgICAgICAgICAgICAgICAgICAgICAgICAgICAgICAgICAgICAgICAgICAgICAgICAgICAgICAgICAgICAgICAgICAgICAgICAgICAgICAgICAgCiAgICAgICAgICAgICAgICAgICAgICAgICAgICAgICAgICAgICAgICAgICAgICAgICAgICAgICAgICAgICAgICAgICAgICAgICAgICAgICAgICAgICAgICAgICAgICAgICAgICAKICAgICAgICAgICAgICAgICAgICAgICAgICAgICAgICAgICAgICAgICAgICAgICAgICAgICAgICAgICAgICAgICAgICAgICAgICAgICAgICAgICAgICAgICAgICAgICAgICAgIAogICAgICAgICAgICAgICAgICAgICAgICAgICAgICAgICAgICAgICAgICAgICAgICAgICAgICAgICAgICAgICAgICAgICAgICAgICAgICAgICAgICAgICAgICAgICAgICAgICAgCiAgICAgICAgICAgICAgICAgICAgICAgICAgICAgICAgICAgICAgICAgICAgICAgICAgICAgICAgICAgICAgICAgICAgICAgICAgICAgICAgICAgICAgICAgICAgICAgICAgICAKICAgICAgICAgICAgICAgICAgICAgICAgICAgICAgICAgICAgICAgICAgICAgICAgICAgICAgICAgICAgICAgICAgICAgICAgICAgICAgICAgICAgICAgICAgICAgICAgICAgIAogICAgICAgICAgICAgICAgICAgICAgICAgICAgICAgICAgICAgICAgICAgICAgICAgICAgICAgICAgICAgICAgICAgICAgICAgICAgICAgICAgICAgICAgICAgICAgICAgICAgCiAgICAgICAgICAgICAgICAgICAgICAgICAgICAgICAgICAgICAgICAgICAgICAgICAgICAgICAgICAgICAgICAgICAgICAgICAgICAgICAgICAgICAgICAgICAgICAgICAgICAKICAgICAgICAgICAgICAgICAgICAgICAgICAgICAgICAgICAgICAgICAgICAgICAgICAgICAgICAgICAgICAgICAgICAgICAgICAgICAgICAgICAgICAgICAgICAgICAgICAgIAogICAgICAgICAgICAgICAgICAgICAgICAgICAgICAgICAgICAgICAgICAgICAgICAgICAgICAgICAgICAgICAgICAgICAgICAgICAgICAgICAgICAgICAgICAgICAgICAgICAgCiAgICAgICAgICAgICAgICAgICAgICAgICAgICAgICAgICAgICAgICAgICAgICAgICAgICAgICAgICAgICAgICAgICAgICAgICAgICAgICAgICAgICAgICAgICAgICAgICAgICAKICAgICAgICAgICAgICAgICAgICAgICAgICAgICAgICAgICAgICAgICAgICAgICAgICAgICAgICAgICAgICAgICAgICAgICAgICAgICAgICAgICAgICAgICAgICAgICAgICAgIAogICAgICAgICAgICAgICAgICAgICAgICAgICAgICAgICAgICAgICAgICAgICAgICAgICAgICAgICAgICAgICAgICAgICAgICAgICAgICAgICAgICAgICAgICAgICAgICAgICAgCiAgICAgICAgICAgICAgICAgICAgICAgICAgICAgICAgICAgICAgICAgICAgICAgICAgICAgICAgICAgICAgICAgICAgICAgICAgICAgICAgICAgICAgICAgICAgICAgICAgICAKICAgICAgICAgICAgICAgICAgICAgICAgICAgICAgICAgICAgICAgICAgICAgICAgICAgICAgICAgICAgICAgICAgICAgICAgICAgICAgICAgICAgICAgICAgICAgICAgICAgIAogICAgICAgICAgICAgICAgICAgICAgICAgICAgICAgICAgICAgICAgICAgICAgICAgICAgICAgICAgICAgICAgICAgICAgICAgICAgICAgICAgICAgICAgICAgICAgICAgICAgCiAgICAgICAgICAgICAgICAgICAgICAgICAgICAgICAgICAgICAgICAgICAgICAgICAgICAgICAgICAgICAgICAgICAgICAgICAgICAgICAgICAgICAgICAgICAgICAgICAgICAKICAgICAgICAgICAgICAgICAgICAgICAgICAgICAgICAgICAgICAgICAgICAgICAgICAgICAgICAgICAgICAgICAgICAgICAgICAgICAgICAgICAgICAgICAgICAgICAgICAgIAogICAgICAgICAgICAgICAgICAgICAgICAgICAgPD94cGFja2V0IGVuZD0ndyc/Pv/bAEMABwUFBgUEBwYFBggHBwgKEQsKCQkKFQ8QDBEYFRoZGBUYFxseJyEbHSUdFxgiLiIlKCkrLCsaIC8zLyoyJyorKv/bAEMBBwgICgkKFAsLFCocGBwqKioqKioqKioqKioqKioqKioqKioqKioqKioqKioqKioqKioqKioqKioqKioqKioqKv/AABEIAHICegMBIgACEQEDEQH/xAAfAAABBQEBAQEBAQAAAAAAAAAAAQIDBAUGBwgJCgv/xAC1EAACAQMDAgQDBQUEBAAAAX0BAgMABBEFEiExQQYTUWEHInEUMoGRoQgjQrHBFVLR8CQzYnKCCQoWFxgZGiUmJygpKjQ1Njc4OTpDREVGR0hJSlNUVVZXWFlaY2RlZmdoaWpzdHV2d3h5eoOEhYaHiImKkpOUlZaXmJmaoqOkpaanqKmqsrO0tba3uLm6wsPExcbHyMnK0tPU1dbX2Nna4eLj5OXm5+jp6vHy8/T19vf4+fr/xAAfAQADAQEBAQEBAQEBAAAAAAAAAQIDBAUGBwgJCgv/xAC1EQACAQIEBAMEBwUEBAABAncAAQIDEQQFITEGEkFRB2FxEyIygQgUQpGhscEJIzNS8BVictEKFiQ04SXxFxgZGiYnKCkqNTY3ODk6Q0RFRkdISUpTVFVWV1hZWmNkZWZnaGlqc3R1dnd4eXqCg4SFhoeIiYqSk5SVlpeYmZqio6Slpqeoqaqys7S1tre4ubrCw8TFxsfIycrS09TV1tfY2dri4+Tl5ufo6ery8/T19vf4+fr/2gAMAwEAAhEDEQA/APpGiiuAn8a6vY/Guz8JXTWE2mX1q80ckds6TROASsbOZCrcKTkKPpQB39Fct8Q/GsXgXwjc6p5JurvbstbYf8tJDwM+igkZP4dSK1fDv9tNosD+JpbKS/kUO4sYHijjyB8uHdicHPPGfQUAalFFcf4q8UazoPi7w1YW9pYtpur3v2SSaSRzMp2M3CgBR93rk/SgDsKKrai1wmm3DWc8NvOsZZJZ4jKiEd2UMpI9gwrkvhT4zv8Axx4Rl1DWIraG9gvJLeRLaNkTC4KnDMx5VgetAHbUVwep+NdVvviZbeD/AAmLNDDbvdalfXsDypGoIUJGqumWycEk4HuQRXefWgAoorj/AIi+KNZ8JaTaX+k2ljPA95BbztcyPuUSSKnyoowevUsPoaAOwooooAKKKKACiiigAooooAKKKKACiiigAooooAKKKKACiiigAooooAKKKKACiiigAooooAKKKKACiiigAooooAKKKKACiiigAooooAKKKKACiis/WtbsvD+mvf6n9oFsh+dre0luCoxnJWNWIHHUjAoA0KK4rSfi54P1+OR9Cu9R1NIjiRrPRb2YIfQ7YTitzQPF2g+KPOXQ9SjuZbc4ngIaOaE/7cbgMv4gUAbNFV76/tNMsZbzUbiK2toRukllYKqj6msnXvGei+GdMj1HWpLyCzkTzPPTT7iVY145coh2dR97FAG9RXLeGPiR4Y8ZTeX4ZvLq/AJVpV065WJSBnDSNGEU47E80viv4j+F/BE8MXii/msDMMxubKeRH9g6IVz7ZzQB1FFcR4h8Uafquk6NFb/2/Bba1exwW97YqLOVHDbgGWYpJsYKclUIK59RVvQdSh17xtq9xGdatJtIAsJ7O4niNq7H94JFVGb59pHJIIBAxnNAHWUUUUAFFZniHXrXw3ok2p3ySyRxsiCKBQZJHdgqqoJAJJIHWtMHIBxj2NABRRRQAUVUj1Wyl1SbTUuU+2woJHgbh9h6MAeq9sjIzx1q3QAUUUUAFFFFABRRRQAUUUUAFFFFABXjfiW7jstS8P8AjO6ZEhbxTIjOQP8AUGNrdT78RhvfNetalpsGrafJZ3bXCwyY3G3uZIH/AAeNlYfgeazNP8GaDpukWel29m72VjOtxbRXNzLOIXX7pUyMxAHYdB6UAcF4vt59e8SeFNPv0Md1rOordSWr8m2s7YebsI7FmCFj64GcKK9NkvZprW7/ALLt/NurdjGsd2JLeN3wD98ocrz95Qw/I1i3XgLw4/iL/hJbmO+/tKEEi5/tW6Gxc7ioXzNoT/YA2+1SeAXE/guyuknuJ0ut9wjXFxJOwR2LKu9yWICkDqelACfbvG//AEL3h/8A8H0//wAh1zvjt7p/EHw7bUIYYLk65+8jglMqKfIk4DlVJHvtH0r0aue8QeBdB8Uaha3utQ3ks9mQ1u0Wo3EAhYfxKscigNz94DPvQA/xpK//AAi81pCf3uoyR2Kf9tXCMfwUsfwrh/Dd1Ppfj7xr4Y0pVW6ur+G6hdQMW0UkC75SP9nbgA9WYD1NdxqvgvRtbvbO71Eag81jg25j1S5iEbAEbgEkA3YJBYjJBwSatz+HdMuJL+QwyQzagqLc3FtPJDLIEGFHmIwYYHoR1PqaAOH+HFtbyeLPGGu2+57S3nTSrVgC7MlupMjcZLFpHYk8kn3rtbPxBDqOo3djZ21wJ7e1huQbmJoVcS7tq8jcpGw5BUEZ6dq5XVvCug+BvAt/aaB9u02O+lihjEeq3XySySBQ6kyEqctk7cbsYOa7yKGOMAovzFVUu33mA6ZJ5PU9fWgDn/t3jf8A6F7w/wD+D6f/AOQ65j4qyajL8NYG1i1tbW6/teyzHa3LToB9oTB3tGh/DbXpdYfibwbonjG3it/EMFxcwQtvWKO9mhTdnIJWN1DEEcE5x2oA3KKgsrSOwsorWBpmjiXapnmeZyPd3JZj7kk1PQAUUUUAFFFFABRRRQAUUUUAFFFFABRRRQAUUUUAFFFFABRRRQAUUUUAFFFFABRRRQAUUUUAFFFFABRRRQAUUUUAFFFFABRRRQAUUUUAFYfjbWk8OeBtZ1aXGLWzkdcjOWxhR+JIFbleP/tI6rJH4AstAtObrXL+O3VR1Kg7jx1+9sH40AXf2dtB/sb4R2lzLHsn1SZ7xyRgkE7V/wDHVB/GuS1qYn9sbSx4fOJFs1XVDFwCuxi2/wD4D5f47a9MsfC/i3TfD1ro+m+KNNs7a2t0gjkXRS0yBVxwxn2Z9yn4Vg6t4M0r4Z/DfxZrWlvcXWt3NjM9xqt4++eV2B7gYUZOcADoM5xmgB3g3Uh8TvGuo+I7j97oOh3JtNHgYfJJMB89yQercgL/AHQT3ro/ireCx+E3iWc/9A+VBz3YbR/Oua/Zzt44PgrprRjBmmnkc+p8wj+QFT/tB3n2T4KawO8zQxD8ZF/oKAH/AAAsRY/BTRMKAZ/NmbB67pG/oBWv/Z1t438TW2qXcST6PosrfYVdcrcXQO1pvdUwVX1bc3ZTWF4VWefwH4a8G6W8kL/2VBLqlyh2tbQMmdgP/PSQ5A7gbm64z6Ta2sFjZw2tnCkFvCgjiijXCooGAAOwxQBxfiH7XP8AFbQWlsrp9L0uznu2nWEmLzmxGMv90FU3nGc88Zqb4WRyTeDTrNwCJ9cu59RbPXa7nyx07RhK1PEOg6nrkxt4tc+x6TcW7W95aJahpJATyyS5BQkZU8NweMHmtq1tobK0htbSNYoIUEccajAVQMAD8KAJaKKOnWgDjPEX/E7+I/h7RB80Gnq+r3Y7ZX93CD/wJmb/AIBXZ1xnw/8A+JrPrvil+f7Wvmjtif8An2g/dx49iQ7f8Crs6AMnVvFXh7QbhINc17TNNmkXekd5eRwsy5xkBiCR71Vt/H/g67uY7e18WaHNNKwSOKPUoWZ2JwAAGySfSsHxb8MPB3iDVbzxF46iN8qRIkW+4khS2iUfdARhuJYk5PXIAHrQ8FfCDwno+vp4lsvDo06SMYsbaWaWVox/z1cOzYc9gPuj1PQA6fx14aPiDQWm09zba1p4a40y8j4eGYDgZ7q33WU8EGofhr42j8feCrfVvLEF2rGC8gH/ACzmX7wHscgj2NdZXg/wEnax+JPxC0JAVt4r4zIvGFIkdf5Y/KgD3iiiigAooooAKKKKACiiigAooooAK8d1X9pfwpomr3WmanoniKC7tZTFLG1tCCGB/wCuvT37ivYq8k+N/wAH4vH2lnV9EjVPENnHhBkKLtB/yzY/3h/CfwPHQA0U+M6yIrp8OvH7KwyrDQ8gj1+/S/8AC5P+qcfED/wR/wD2deZfAb4wTaXeR+BfGkjxhZPIsLifgwODjyHzyBnhc9Dx0xj6WoA8xuvjdb2Vs9xe+APHdvBGNzyy6MEVR6kmTArovh98RtI+JOkXOo6FBeQRW0/kOt5Gqtu2hsjazDGD611nXrXIeDvCX/CK+JvFBs7VbbTNSuoru2VGGN5TEuFz8vzAHoOvHsAdfXjuq/tL+FNE1e60zU9E8RQXdrKYpY2toQQwP/XXp79xXsVeSfG/4PxePtLOr6JGqeIbOPCDIUXaD/lmx/vD+E/geOgBop8Z1kRXT4deP2VhlWGh5BHr9+l/4XJ/1Tj4gf8Agj/+zrzL4DfGCbS7yPwL40keMLJ5FhcT8GBwceQ+eQM8LnoeOmMfS1AHmN18breytnuL3wB47t4IxueWXRgiqPUkyYFdF8PviNpHxJ0i51HQoLyCK2n8h1vI1Vt20NkbWYYwfWus69a5Dwd4S/4RXxN4oNnarbaZqV1Fd2yowxvKYlwufl+YA9B149gDr6KKKACiuK+JfjnVPh/oL63b6Db6rp0O1ZydQMEqMzYGE8pgRyOd2eeneotG8XeM9c8LWmvWng/TRDdwLcR2za44nZCMjg2wXJHYsPrQB3VFcr4D+IWkfEDTbifTFmtrqzk8q8srlQstu/oQOo4OD7HoQRV+TxNBL4jOiaVA9/dwFTesh2xWankb3/vkdEGT3OBzQBt0V5x8T/idrHw0tY9Qm8M2uo6XNMII549VMcgYrn5ozCcdD0ZunOK63wvqetavpUd7r2j22kmaNZIoIb43LgEZw/7tAp6dC1AG1RXnNz8QvFg+I1x4S03wTb3rwRrO99/bBSGOJidrOfIJVjj7oyeuMgZr0VCxRd4AbHzAHIB+tAC0UVV1GS/isXfSba3uroY2RXNw0CNzzl1RyOP9k0AWqK8n8I/F3xH4w8Xan4fsvBVpbXGkuUvJbjWjsjIYrgbYCWJIOMDt2rtvHPiS98I+EbvXLHTIdSFknmTwSXZgOwdSp2Nk9ODj69qAOiormvBWveIfEekrqHiDw0nh9JkDQQNfGeZge7r5ahOMcZJ9QK6WgAooooAKKKKACimTNItvI0CLJKFJRGbaGPYE4OPrg1k6B4ns9ee6tkSW01GxYJeWFwNssBPIPoynqGUlT69aANmiiigAoornfG/iLUvC/hu41PSdBk1l7eNpZI1uUhWNFGSxLcnjsoJ4oA6KiuJ+EvjW+8f+A49d1S3t7eaS5ljEduGChVbA+8SScdT+grtqACiiigAooooAKKKKACiiigAooooAKKKKAIrq6t7K1lur2eO3t4VLySyuERFHUkngD3r5w8a+OfDfi/8AaH8LwtrdquhaI3mPePKBA8w+fh+mMqg3Zxx+f0pRQAyGaO4gSaCRZYpFDo6MCrKRkEEdQayPGOjN4h8E6zpEZw97ZSwof9oqQP1xW1RQB5P+zhd+Z8JY7CUMlxp17PbzRsMFG3bsf+PUftCaXqHiLwfpHh7RovOvNT1aONE9AEdixPYADJPoK15NEufAXjbUPEWkW8lzoGsHzNWtIELyW04/5eEUcspH3lGT3APQd9BPFc28c9u6yRSKHR1OQwIyDQBjeD/DEPhPw7Bp0crXM+A9zdOAGnkwAWOOgwAAOygDtUnifWotD0Oac6lpWnXUilLSTVpxFA02DtVjkEjjoOcVsVwvxMuknXQPD8jhI9W1JDckvtAt4f3smfY7VX/gVAF3wreeJLjxZ4ig1+aGSztxai0WGIKis0IaXa2MsNx75q/rOtvHrNjpGjanoq6nJMslxZX1xiZrbnc0aKdxbjgkY4Nb1cTB/wATj41XMhBMPh/S1hXk4864bc3tkJGv/fVAF/wRd65dw62fEUwlMWr3ENpiIJiBSAg4Az35PPvR8RNSn07wTdx2DYv9QKWFpjr5szBAR9AS3/Aa6eigCnpGmwaNotnptou2CzgSGMeygAfyqa8vLfT7Ge8vZVht7eNpZZG6IqjJJ/AVNRQB89zftI+D7zxDJcarY6zcWdnL/oEEFvGUYj/ls+6QEt/dGPlHPJPHo/w6+JUPxMvdQvdGtLq10ixRIR9rRFeWZskn5SwAVQO/8RyOld7RQAjMEUsxwqjJJ7CvD/2erGTUNc8aeLnTEOpai0du+c7gHZ2/D51r0Lxle6hq9tceFvDCv/aF3H5VzfFD5OnxMPmct0aTB+VBzyCcDmtrwz4dsPCfhuy0TSY/LtbSMIvqx7sfUk5J+tAGrRRRQAUUUUAFFFFABRRRQAUUUUAFFFFAHhHx8+DH/CRW83ivwtb51aFM3lrGv/H2g/jA/vgfmB6gZZ8A/jN/bsMPhHxXcY1SFdljcyHm6UD7jH++AOD/ABD36+4anqVpo+l3Oo6nOlvaWsZlmlc4CqBya8Y+G3w9sPFXjq8+J2oaLHptldTebo+nlcZ/6eXXoGY/MAOMnPoSAe40UUUAFFFFAHhHx8+DH/CRW83ivwtb51aFM3lrGv8Ax9oP4wP74H5geoGWfAP4zf27DD4R8V3GNUhXZY3Mh5ulA+4x/vgDg/xD36+4anqVpo+l3Oo6nOlvaWsZlmlc4CqBya8Y+G3w9sPFXjq8+J2oaLHptldTebo+nlcZ/wCnl16BmPzADjJz6EgHuNFFFABRRRQB4x+0XdTahpXhzwfZn9/r2porAZ+4pA5x23OD+Feq3V5pvhTw01xezJa6fp1uAzscBUUYA+vGAO9eNa1bwePf2qrfS7rMth4d04vIquVPmEZ4KnIOZE9Pu16dL8NvC91PFJqVlc6p5Lbo49T1C4vI0PqI5pGX9KAPBvA2uX/hHwn48+KEtu1vHrE/laVDLx5sjyMQ3uF3fjtavdPhfoR0L4e6atwTJf3sf22+nfl5p5fnZmJ5J5A/AV5v+1Mxh8C6DbRKFgbUgCq4AGI2wMfnXt9gANOtgBgCJcAfQUAeKftMu11pvhPR0yWvdVHAGc4AX/2evXdb1dNA0lGihNzdSMtvZ2qcNPKR8q+w4JJ6BQSeBXjnxwureT4wfD20vZUitraZryd5B8qIHUkk+mIzXqPh22uNZ1FvFGrRNEZEMemWsi4a2tz/ABkdpJMAn+6Nq9QcgGj4f0T+xrOVp5BcaheSm4vbkAjzZSAOAeigAKo7ACtaiigDkvDvi/V9Z8Zaxo1/4R1DSrPTyRBqc7Ziu+cfL8oHI5+Utx1xXWk4BJ6UVT1i6Fjod9dscCC2klJxn7qk/wBKAPGP2cwb7V/HWtMD/peqbQduO7t/7OK9KlC+MNdMBXdomk3AMhOdt5dIchfdIyAT1BfA/gOfHvgHPdzfDuXRtFl8nUtWv5Z7m6RebK2AVTJzxuYgqg9cnkKa+gdP0+10rToLCwhWG2t0Ecca9gP89e9AFmiiigArkk8X6u3xMfwyfCOoLpiw+YNcLfuCducfdx14+9nP8NdbRQAV4/rX7S/gzRNcvdLnsNanlsp3geSCCFkZlOCVJlBIyPQV7ARkEVzkkiackXhrwlBFDNGg3uFzHZRn+Nv7znkhTyTyeMmgDG+H3xc0j4k3l1DoOk6xDHaoGlubuCNYgSeFysjfMeTjHQGsP40Xc/gy60Lx/pY2z2FyLO+UcfaLWTko3rgjI9Ca9M0vTLfSbIW9tubLF5JZDueZz1dj3Y//AFhwAK8//aEjWT4JazvIG1oWGR381aAPR7W6ivbOG6tm3wzxrJG395WGQfyNeO+Pv2kNE8Ia9LpGk6ZJrlzbOUuXW4EMUbDqobaxYjvxj3rtvhTLNc/B/wANtMSJG06NQenAGAfyAr4e8Q6deaR4k1Gw1ON47u3uHSVZOuc9fx6596APtT4Z/F3Q/iZbzJYxyWOpW6hprGdgW2/3kYfeXPGcAjuBkZ6Lxv8A8iBr/wD2Dbj/ANFtXyz+zLpt/dfFcXtqri0s7ST7VIAduGGFUn1J5x/sn0r6m8b/APIga/8A9g24/wDRbUAecfs+ajZ6R8B11DU7hLa0tri4kmmkOAihuTXWQ+NvEGq6B/b3hzwkLzS3QyQLc6h5F1cRj+JIvLZeRyAzqSMcDNfO91fXVr+yJYQWxZYrrW3jnK9CoLMAf+BKPyr6r8LmJvCOkG32+UbGEptGBjYMYoAzvBPj3RPHmhNqWjSunktsube4ASW2f0cdvr0P4GsjT/iHqXie2v7/AMDeHU1XTLKRolubq+Nqbt1+8IV8t9w7ZYoCa8v8IaPN/wANB/Efw9pz/Z7W/sZw+37qNJtKn8DI35mt34L+KtM8D+D7vwj41u4NE1XR7uUNFdyBPPVjuBjP8fXouT045FAHY+BPivbeP940nw5q8Yt5RDeSytbBLZ8ZwQZQ5HuE/DrXfV5P8D/DWoadJ4o8R39tNZQ6/qLT2lrMmxxCGYh2U8qTv6EZwPevRtX0u71Lyfseu6hpHl7t32KO3bzc4xu86J+mOMY6nOeMAGlRXN/8Ivq//Q9+IP8Avxp//wAi0f8ACL6v/wBD34g/78af/wDItAHSUVzf/CL6v/0PfiD/AL8af/8AItH/AAi+r/8AQ9+IP+/Gn/8AyLQB0lFc3/wi+r/9D34g/wC/Gn//ACLR/wAIvq//AEPfiD/vxp//AMi0AdJRXN/8Ivq//Q9+IP8Avxp//wAi0f8ACL6v/wBD34g/78af/wDItAHSUVzf/CL6v/0PfiD/AL8af/8AItH/AAi+r/8AQ9+IP+/Gn/8AyLQB0lFc3/wi+r/9D34g/wC/Gn//ACLR/wAIvq//AEPfiD/vxp//AMi0AdJRXN/8Ivq//Q9+IP8Avxp//wAi0f8ACL6v/wBD34g/78af/wDItAHSVWudMsby6trm8sree4tGLW8ssSs8JPUoSMqT7Vif8Ivq/wD0PfiD/vxp/wD8i0f8Ivq//Q9+IP8Avxp//wAi0Aaet32oafZJNpWkSavJ5qrJbxTxxOEPVgXIUkehIz61n+EtBn0pNSv9S2f2lq9213crGdyxDAVIwe+1FUZ7nJpn/CL6v/0PfiD/AL8af/8AItH/AAi+r/8AQ9+IP+/Gn/8AyLQB0lFc3/wi+r/9D34g/wC/Gn//ACLR/wAIvq//AEPfiD/vxp//AMi0AdJRXN/8Ivq//Q9+IP8Avxp//wAi0f8ACL6v/wBD34g/78af/wDItAHSUVzf/CL6v/0PfiD/AL8af/8AItH/AAi+r/8AQ9+IP+/Gn/8AyLQB0lFc3/wi+r/9D34g/wC/Gn//ACLR/wAIvq//AEPfiD/vxp//AMi0AdJRXN/8Ivq//Q9+IP8Avxp//wAi0f8ACL6v/wBD34g/78af/wDItAHSUVzf/CL6v/0PfiD/AL8af/8AItH/AAi+r/8AQ9+IP+/Gn/8AyLQB0lFc3/wi+r/9D34g/wC/Gn//ACLR/wAIvq//AEPfiD/vxp//AMi0AdJRXN/8Ivq//Q9+IP8Avxp//wAi0f8ACL6v/wBD34g/78af/wDItAHSUViafoOo2V/HcXPizWNQiTO62uYrMRvkEcmO3VuM54YcjuOK26ACkZgqlmIAAyST0pa+fvjf8YNNi1VfBNrd3SWRfbrl1p6q0oj7wR7iBuPRjnjpzyKAOlcv8avFJiXcPAWjXHzsOBrFyp6e8Sn8z/4762iLGioihVUYVQMAD0rwfSv2lvh1oek22maVoWu21naxiOGJLaDCqP8Att+vern/AA1X4I/6BXiD/wAB4P8A49QB7bVea+tbe8trSedEuLot5ERPzSbRlsD2FeLyftWeCxExh0jXnfHyq0MKgn3PmnH5VD8KvH998WPi9d6zcWa2Nho+mtFa2wffsaV1yzNgZYhD24A+pIB7tSMwVSzEAAZJJ6UtfP3xv+MGmxaqvgm1u7pLIvt1y609VaUR94I9xA3Hoxzx055FAHSuX+NXikxLuHgLRrj52HA1i5U9PeJT+Z/8d9bRFjRURQqqMKoGAB6V4PpX7S3w60PSbbTNK0LXbaztYxHDEltBhVH/AG2/XvVz/hqvwR/0CvEH/gPB/wDHqAPbarzX1rb3ltaTzolxdFvIiJ+aTaMtgewrxeT9qzwWImMOka874+VWhhUE+5804/KofhV4/vvix8XrvWbizWxsNH01orW2D79jSuuWZsDLEIe3AH1JAPdqztb1G902w87TdGutYnJwsFtLDGRwcFmldQBnjjJ56Vo0UAeI/CXw74z0Hx94g1zxj4SuIrjXpgRdQXttIlupYswZfN3Y5XkAnjpXt1FFAHm/x48JS+LfhXfR2cZkvNPYXsKjq2wHcB77S344rqPAetR+IfAGiapEQftFlGW29nC4YfgQRXQdetcfo/he78G63N/wjaJNoOo3Bln09n2Gxkb70kPYoTyYzjHVT/DQBh+IPhifF3xqsvEWuRK+jaVYxiCFyGFxPvc4K54VcgnI5OBzzXplFFAHKeIdTifxnoWiuutQzO73kMljPEkM4jU7o5QX3leRxtwSV560vgrUIPEEmq69avrMSz3JtWstRnjeOB4fkbyljZlAJzkhjkiuf1nUrvTPH/iXxDfWN0tlouhiKzmeErEzENLIyuRhiSsaYGT6jFdR4A0mTRfAGj2Vx/x8C2WS4J6mV/ncn33MaAOX0bxr45t/iNHofjXw1Y2OmalNNHpl3aXKuzeWpf5hvJIKjrtTBI4rrvGtle6l4F1ux0mLzr26sZYYE3hdzMpA5JAHX1p1n4dC67/bWq3TX2oLG0MB2bIrZGI3CNMnBbAyxJJx1A4raoA474Y/D6z+HXg+HS4Nkt5JiS9uQuDNJ/8AEjoPb6mt7xHq6aD4dvdTnt7i4htYmklW2eNXCAcsDIyrwOevbjJ4rTrjPilFe3ng9NMsLW6uBqN7b21ybaFpDHAXBkJCg4G1SM9Pm5oAqaf4VkvdU8D63BdajcW+mWdwzyanOHuW86NdvmEcM3Jzj0rb8da7DoXht3u4NSeG7kWzM2mSRJNA0p2Kyl3XncwxjJB5xiugh/4948xmL5R+7OPk46ccce1cZ4xJ1Txx4Q0JeY/tUmp3C9tkC/Jnj/no6flQBNpng+bT/iJHrZuri5gi0OPThLczb5JHWQsWb1OMEn1NYureNfHOgfESG31Xw1Y/8IhdXsVlb38VypnLyYCsVL5POcrsGPU4yfSqxZfDovteg1PV7proWTl7K1VNkUDEEeYRkl5MEjcTgZ4UHmgCDxxfeJbDwvO/gnSF1TV5D5cKPNHGkWQf3jb2AOPTPJI7ZrybSdT+Puj2ItrXwJoTksXlmluUaSZz1d2+1ck//WGAAK96ooA53wNaaza+FIJPFKqutXTvcXyIQVSRjwoIJGFUKo5PTqa4j9oaWe+8Fad4X01Wk1DXtRighiUZLKp3MfoDtya9Wmd47eR44mmdVJWNSAXPoCSBz71zGkeF7m48Tf8ACU+KDDJqixGGytoSWi0+I/eCsQC7t/E5A9AAByAbeg6THoPh3T9JgbdHY20cCtj7wVQM/pWL4p+GnhDxrcJceJdDhvLiMbRMHeKQj0LIVJHsTXU0UAZfh/wzo3hTTBp/h3ToNPtQdxSFfvHplieWPuSTWb8QG1aTwZqNjoGiz6teX1tJbokc0USxllI3OZHXjntk101FAHhngH4baxefCG8+H/jvw9PpoaSSe31Bbi3mRHJBU4SQtuBzxjBGRkZrqfAieN/BnhyPw1rXh19ZFgvlWWpWF5Asckf8IkWR1dccDIVuO3HPpVFAHA+EvAt54ch8R67f3dt/wkuutJNNOhJhteD5aKSASq55JAzjpxXmfgzUvjjovheC10Dwvo2rWDPJLHqFxMu+63uWMhJnQsGJJDFQSCDXtXjvw5ceLfA+qaFZXzWE97D5azgHA5Bwcc4OMH2JridH1r4t+H7G30nUPAen679mRYVv7LWI7ZHUcAlXBbOBzwPp2oAd4Q8d/EFPFdpo3xM8J22lx6kWSzvLF9yCRVLFGxI45AOOR06Ht6pXN6Tpus6lfwat4tjs7ea23GzsLOQyrAWGC7yMBvfBI4UAAnrnNdJQBjeJfFmkeEbAXuvS3EFrzumis5p0jx3Yxo20c9WxmsbTvit4U1exN7pM+qX1opIM9tod7JGMdfmWEjiqPxx1xNC+D2tyEjzLqIWkYIzkyHaf/Hdx/CtH4U+H/wDhGfhboWnNH5cotVmmUjB8yT52z75bH4UAbmg+JNG8T2JvNA1GC/hVtrmJslG9GXqp9iAasajqllpFss+o3KQRs4jTdyXc9FUDlmPYDJrwPwdqcNh+0543v9OlEOg21rLLqLp/qwyBSWOO+/f/AOPV33wxlm8by3HxA1mM7rmSSDR7dxlbO1U4yo/vuQSzd8AdKAOl8UePvD3gxVfxJc3VnCwGJ/7PuJIsnOB5iRlQeOmc+1SeGPHGheMojN4cnurqDBIuG0+4iibBwQJHRVJz2BzXG/tF3YtfgrqSHrcTQRDn/poG/kprrPh/ax6P8L9AhkKxRwaZCzsW4X5AxJP5mgCt4h+KfhHwrrS6Tr+o3Fnevjy4jp1y/m56bGWMh+Tj5SeeOtdTZ3Ud9ZxXUCyrHKodRNC8TgH1RwGU+xANcto+lQ+JPEieMtQtwyxRGHRkkT5ooTy03PRpOMdwoHQk119ABRRRQAVmazr1robaelzHNLLqF2lpBHCoLF2ycnJHygAkn0FadcYn/E9+MDt9628N2Owen2m45P4iNR/33QB2dFFYuo+M/C+j3rWer+JNIsLpAC0F1fRROoIyMqzA9KANqqlnqtlf3Fzb2lykk9o/lzxdHiPbKnkAjkHoRyM1nWHjbwrqt9HZ6X4m0e9upciOC3v4pHfAycKrEngVg/E/TLm10ZvGHh4eVr2hRmaN1H/HzADmSCQfxIRkgdiARigDuqKx/CfiS08X+FdP13TsiC9iDhW6o3RlPuCCPwqv4p8deGvBUEcvifV4bAS/6tGDO7+4RQWI98UAdBRWF4X8beHPGlrJceGNWg1BI8eYqZV489NyMAwzg4yOcVu0Ac74p8eeH/BSJJ4lurizhcDE4sZ5YsnoC6IVB46E5qlB8UvC1zpi6lBNqj2DLuF4NEvfJ2/3vM8naB75xXH/ALSOpNH8OrXQ7Zd93rV/FbxIBkkA7jj8do/GvTdB0qDQPDFhpUQVYbG1SH0GFUAn9KAJtJ1jTtd02PUNGvYL60l+5NBIHU+2R39u1LearZWFxbQXdykc92/lwRdXlbvhRyQByT0A5NfOvwe8T2/haf4k68hYeF7Ocy26JnY0hdgip7kbR/3zXrfww0+6u9DXxd4hAk1zXUE7sw/49oDzHAn91AuDjuSSeaAL3ib4neFPB115Hia+utPYnaryabcmOQ4zhZBGVbr2JxWr4e8UaX4qsvtmitdS2xAZZp7Ga3WQHoUMiLvHuua8m/ahl83whoOmj715qq4GcdEI/wDZhXsUtzaaBoJnvHEFpZQDe2M7VUYwAOp7ADrQBzV98W/BuneIm0G81C8TVQ+wWY0q7aRz/sgRHcD2IyCOldkjB0VhkBhkbgQfyPIrmPDfh7OsXnivWLVU1nUVCIrKN1pbD7kOeef4mI6scdAK6igAqrqmpW+j6Rd6lfNstrSFppWHZVGT/KrVcZ8QT/ak2h+Fk5/te+V7kD/n2g/eSZ9iQi/8CoA6rTrwajplterDLAtxEsoimADoGGcMASARnnk1ZoAwMCs7V/EOi6AsTa7q9hpizEiM3tykIcjrjcRnrQBo1Uk1Wyh1WLTZrlI7yZDJFE/BkA67SeGI7gcjvWMPiN4IJwPGPh8n/sKQf/FVd8SeHrHxXoMlhe52viSC4ibDwSDlJY2HRgeQR/I0Aa9FcH8K/Gl14m0q/wBL13A17Qbg2d+QuBKQSFlA/wBoA59we2K7ygArzmb4A/DSeZ5pvDe6SRizMb+55JOSf9ZXo1Q3l3HY2U11OJTHChdhDC8r4HoiAsx9gCaAPPP+GfPhj/0LP/k/c/8Axyj/AIZ8+GP/AELP/k/c/wDxyur8H3r6ro76qutNq9nfzvPZSNZfZjFCThY9pALYwfmIBNb1AHm3/DPnwx/6Fn/yfuf/AI5XSeEvh74X8Cm6PhXSxYG72+cfPkl37c4++xx1PSuY065vvHuoeLLyLVr/AE+PR7t9P0tbOdo1SWNMtK6jiUljja+5cDpkk11Hw98TSeL/AADpWt3CKlxcw4nVAQBIpKtjPbKmgDpK85m+APw0nmeabw3ukkYszG/ueSTkn/WV6NXN+L9YW0htNJt9Yn0bUtUmWGyu1017pA+clT8pQEgH7xHGT2oA5r/hnz4Y/wDQs/8Ak/c//HKP+GfPhj/0LP8A5P3P/wAcroY7DWR8VHvXvLltG/sdYxBvPkm4805bb03bR164NdRQB5t/wz58Mf8AoWf/ACfuf/jldJ4S+HvhfwKbo+FdLFgbvb5x8+SXftzj77HHU9KyfEGqz6z8UNO8GQ3VzaWa6fJqN+9pM0Uko3BI4xIpDIM5YlSCcAZxnM3gTWruTXvE3hjULmW7fQrpBb3ExJkeCVN6B2/iK8ruPJABPOSQDtaKKKACiiigAooooAKKKKAOb1jwxe67qUsWp6wJNAlaKRtLFoAxZDnaZd3KMwBKlc8Y3AZFdJ06UUUAFFFFABRRRQBFdRyy2k0dvMbeZ0ZY5goby2I4bB4ODzg1i6F4buLHUH1bXdRXVdYkt0tTcpbiBFiUk4WPc2CWO5jk5OOgAFb9FABRRRQAUUUUAFFFFABRRRQAUUUUAFFFFABRRRQAUUVV1HU7DR7F73Vr23sbWPG+e5lWNFycDLMQBzQB4z8fGfxH4q8F+BrV8PqF99omON21B8oJH0Ln8K9CvvD3jC/szY/8JfZ2Nsw2GSw0cx3G3pgO8zqpx3CcdsV43ovjbw74s/akl1y81m2t9M060a306S6k8tJnA2fKTgcl3IzyeK+kqAPEvif4X0j4Y/AHWrLwxC8T3zxRXNzK++a4LOAxdu/GeBgcnA5r0D4VW8dr8JfDMcIwv9nRN+LLkn8yao/GnQJvEfwi1uztFLzxxC5jRRksY2DkD3IBqT4N6jHqfwe8OTRtu8uzWBvZoyUP/oNAHFftQTF/AWkaemS95qqKAMc4Rv6kV3UkQ8SXkfhyAZ0XS1RNTfjFxIFBW291xhn9sL3bHFfG/wAOap418ZeC/D+jny2Es13NPtBFvGpjBc564zwO5IFes6LpFroOj2+nWIbyYFxuc5aRics7HuzEkk9yTQBeAAAAGAOgFFUNau9QsdNM2j6Z/alyJEUW32hYcqWAZtzccAk474xWT4M17VNei1ltYtYLc2WrXFnB5IYb4kICsck88nkcewoA6Wis3UL3VLfVLKCw0kXdrMJPtF2blU+zELlPkPL7jxx0rO8A67qXiXwPp+ra3bw217chzJFACEGHZRgEk9AO9AG5e3cOn2FxeXThIbeNpZGPZVGSfyFcz8NbSaPwemp3qFbzWppNTnB6gynKL/wFNi/hUXxIY3+naZ4ZiJ8zXr5LeQDqLdP3kx+mxdv/AAKuxVQiBUACqMADsKAFrzPxJ8JvAlzd3/iDxpZS6tf3lwWD/aJo2bPEcMccbgEgAAdzyT7d34g17T/DGgXes6zP5FlaJvkfGT6AAdySQAPevCrD9pTwhJqjaprmm63LdKWW1highMdrGePlJlGXYdWwPQcDkA9H+H/wp8PeDr6bWrLRorHULldqRCZ5vssf90M7Elj/ABMOOw469rqdut3pN3byLuSaB42X1BUjFc18O/Gh+IGlXevWtvNa6Y8/k2UVwqhyqD5nOM8liRjJHy+ua3vEOoR6V4Z1LUJmCpa2sspJOPuqTQB5D+y3fyS+AdV06TJWx1FhHnsGUHH5g/nXz/8AF/Ub/Uvi34hfU5GeSG8eCMHokaHCKPQY/nX0d+zPoc2m/DGXUbqPY+rXj3CepQAID+atV34mfAbRPiFqf9rQXsmj6qwCyzxxCVJgOAWTI5xxkEe+aAPm34J6lf6b8YNB/s1nzcXHkTRqTiSJh8wI7gD5vqoPavuavL/hl8C9D+HV8dTe6k1fVtpRLmWIRrCD12Jk4JHBJJ46Yyc9/rXiDSPDdgb3X9StdOt84ElzKEDHGdq5+8cA8DmgDxv4grP4y/aP8MeHbGZYhotub6SRoxIqP94ZXjP3Y+4616BrXhDxP4lsX03WfF8Vtp0wKXCaRpn2eaZD1UySSyYB/wBkCvKfg14p0bxJ8bvFfiS/1OCC5v2FvptvcyBJJYy3AUHqdqIMDJ5r6LoA+e/j9pGmeB/hBpHhnw1bLZWNzqK+aiklpdqkksx5Y52nn0HYV7zpUKW2jWUEK7Y4rdEUegCgCvK/2ldBn1b4V/bbVSz6VdpcuAM/IQUY/huB+gNemeGtQj1XwrpeoQHdHc2kUqn6oDQB5B8dB/aPxO+HGkAE+ZqHmsBg8eZH/ga9GtyPGWvfaWG7QdLmxbg8re3KnBkx3SMghfV8n+FSfPPH/g/UfHf7QekW9rLJa2Gk6as15dxYDRh3f5VPZmxgHqOT2r2m0tILCyhtLOJIbeBBHFGgwqKBgAD6UATUVQ1K71C1nsV07TPt0c9wI7l/tCx/Zo8HMmD9/BAG0c80lneajNrN/bXel/ZrKDZ9lvPtCv8AasjLfIOU2njnrQBoVxnh7/id/EjxBrZ+aDTlTSLU9sr+8mI/4Eyr/wAAre8T60nh3wtqWryjcLO3eRV/vsB8q/icD8aq+B9FfQPBenWNwd10IvNun7vM53yH/vpjQBv1x3jD4ceHfGmpRX3jFGvLOytysNsZnhjiJOXkLIwJJAUc8AA+vHYkgAknAHU14J4k/aH8HzeJ5tOvYdTvNGs3wBZwoy3sgPVizqfLBHC4+Y8ngYIB0Hh34MeBJ9et9c07w4trp9o2+0E080hu27SMsjkBB/CMZbqeMA+t15p4E+L9j8S/E/2Pw1Y31rZWMDTXkl5GiliSFRAFZuPvHOQflHvXpdAHg/hKdtK/a68U2EQKw6haeY68Y3bY3z+rfnXvFeG/D6zfXv2mPGviNFDWmnr9iWTOR5nyrx+EbfnXuVABXM/EXVpNF+Hur3Vsf9JaAwW49ZZCET9WFdNXKXuha3r+sRR+IG09NGsb8Xlsto0hludnMSyhhhdrfMcFtxC8Lg5AIr3wjFF4Q0bRbfwzoeux6dCkSw6xJsSPagXcv7mXk/QfWsu18FeVeQyf8Kx8CQbJFbzYrnLpg/eX/QhyOo5H1FeiUUAeT6Lf23w7vPGek6vIIZ76+l1LSkIJa+EyjCRAcu4cbSoyRkHoc11nww8P3Phf4aaLpWoLsu4oN86Z+5I7F2X8C2PwrrKKACuJ1bGsfGLQ9PIDw6NYzalIMDiRz5Mf44MhrqtX/tMaTP8A2ELQ6ht/cC9LCInPRivIGM8jP0NZvh/Qriy1LUda1don1XUzGJVgYtHBGgwkSEgFgMsSxAyWPA6UAaOsWv27Rrq2+wWeo+bGV+yXzbYZv9lzsfj/AICfpXB/8IN/1Sz4f/8AgV/9w16TRQB5ZcWMXgr4laL4k1O1sdG0i40htKn+zP8A6LYyh/MQbyqBUYZAYqozgdxWp8O7GW68T+LvFTI62us3ka2LOpHmwRRhRIAedrEnHqBnoRXf0UAFFFFABRRRQAUUUUAFFFFABRRRQAUUUUAFFFFABRRRQAUUUUAFFFFABRRRQAUUUUAFFFFABRRRQAUUUUAFFFFABRRRQAEAggjIPUV53oelzfC/Wb21WN5fCGoTm4t5I0LHTJnPzI4HPlE8hui/xYHNeiUUAHXpRRRQBwPjS1s9Z+JPg3S5baGSe3ll1N5miUvHHEAFUMRkBpHTgddtd5HFHEGEUaoGYs21cZJ6n61nTeHNKuPEUWuzWu/UYofISUyNgJu3AbM7ThuQSMima5r40NrYNpmp332ksqmwtWmCMBkB8fdDdAx+UHqQOaAOY8KWVne/FfxfrtrbQxeR5GmeZHGoMsir5kjMRyTl0Xn+5jtXdxRRwRLHDGscajCoi4A+grn/AANoVzoPhoR6kVOo3lxLe3m1twEsrFioPcKCFz/s10VABRRRQAUUUUAFcH4zguvHySeEtJ82HTWkC6xqW0hVRSCYIifvu2MEjhRnPOBXeUUAQWNjbaZp8FjYQrBbW8axRRIMBFAwAKnoooAKKKKACiiigCG9s7fUbGezvYlmt7iNopY2HDqwwQfwNcP4Nt7z4fMvhTVjJPpHnFdF1EKWARjkW8xH3XByFY/KwwMg8V31FABRRRQB53qsemX3xoS6uLa3A8P6LJcXNw0SbmMpIVCxGSAiyHGcfNV34RaZFp/w6tLiG2jtf7Ull1AwxRqixiVyyKAvAATaPwqh4r0i31HVNc0zRNE1GLW9Yhign1SSKT7KIiu1pFcnYGRCy4GGJIGCMmvQLO1isbGC0t12xQRrEg9FUYH6CgCaiiigAooooAK5/wAT67d2UP8AZ2gWjX2t3SH7PFgiOEHjzZX6Ig5Pq2MKCa6CigDm/Ang218EeGY9Mgk+0XDu095dsuGuZm5Zz/IDsAK6SiigAooooAKKKKACiiigAooooAKKKKACiiigAooooAKKKKACiiigAooooAKKKKACiiigAooooAKKKKACiiigAooooAKKKKACiiigAooooAKKKKACiiigAooooAKKKKACiiigAooooAKKKKACiiigAooooAKKKKACiiigAooooAKKKKACiiigAooooAKKKKACiiigAooooAKKKKACiiigAooooA//2Q==)"
      ]
    },
    {
      "cell_type": "markdown",
      "metadata": {
        "id": "DjBim4gvsvD4"
      },
      "source": [
        "Below is a code snippet that calculates the Conditional Mutual Information between an input and output columns."
      ]
    },
    {
      "cell_type": "code",
      "execution_count": 45,
      "metadata": {
        "id": "xri81ISgvMH5"
      },
      "outputs": [],
      "source": [
        "import numpy as np\n",
        "def mutual_information(data, input, target):\n",
        "\n",
        "        mi = 0\n",
        "\n",
        "        # Calculate frequency table of X, Y, and XY\n",
        "        P_X = data.groupby(input).size()\n",
        "        P_X = P_X/P_X.sum()\n",
        "\n",
        "        P_Y = data.groupby(target).size()\n",
        "        P_Y = P_Y/P_Y.sum()\n",
        "\n",
        "        P_XY = data.groupby([input,target]).size()\n",
        "        P_XY = P_XY/P_XY.sum()\n",
        "        # Calculate Mutual Information\n",
        "        for ind in P_XY.index:\n",
        "\n",
        "            x_ind = pd.Index((ind[0],), name = input)\n",
        "            y_ind = pd.Index((ind[1],), name = target) \n",
        "            xy_ind = pd.MultiIndex.from_tuples([ind], names =[input,target])\n",
        "            \n",
        "            if P_XY[xy_ind].item() != 0 : \n",
        "              mi += P_XY[xy_ind].item() * np.log2(P_XY[xy_ind].item()/(P_X[x_ind].item() * P_Y[y_ind].item()))\n",
        "              \n",
        "        return mi"
      ]
    },
    {
      "cell_type": "markdown",
      "metadata": {
        "id": "HiEhnX7YvQnJ"
      },
      "source": [
        "Whom parameters are:\n",
        "\n",
        "\n",
        "*   data - pandas DataFrame\n",
        "*   input, target - strings, names of the input and target columns respectivly.\n",
        "\n",
        "Running Example, based on Loan attributes from Classes:"
      ]
    },
    {
      "cell_type": "code",
      "execution_count": 47,
      "metadata": {
        "colab": {
          "base_uri": "https://localhost:8080/"
        },
        "id": "7DLMlgnHrxXG",
        "outputId": "91d3dc11-dd32-48d7-a7aa-0f2b14e1ad03"
      },
      "outputs": [
        {
          "data": {
            "text/plain": [
              "0.42570942667282563"
            ]
          },
          "execution_count": 47,
          "metadata": {},
          "output_type": "execute_result"
        }
      ],
      "source": [
        "#Building the arrays in accordance with the occurance frequencies\n",
        "a , b, c, d = 306 , 23 , 77 , 284\n",
        "\n",
        "input = [0] * (a+b) + [1] * (c + d)\n",
        "target = [0] * a + [1] * b + [0] * c + [1] *d\n",
        "\n",
        "#inserting into a dataset\n",
        "data = pd.DataFrame([] , columns =['input' , 'target'])\n",
        "data['input'] = input\n",
        "data['target'] = target\n",
        "\n",
        "##Calculating mutual information\n",
        "mutual_information(data , 'input' , 'target')"
      ]
    },
    {
      "cell_type": "markdown",
      "metadata": {
        "id": "nSmqQIe4vnSv"
      },
      "source": [
        "## Task 4:\n",
        "\n",
        "Use the supplied code to predict the best split value of the **'Runtime (Minutes)'** attribute based on the target attribute - the **transformed Rating** attribute.\n",
        "\n",
        "print the threshold value, and the mutual information.\n",
        "\n",
        "\n",
        "Advice - \n",
        "*   Iterate over all distinct values in the input attribute\n",
        "*   transform a copy of the input attribute to a binary attribute - based on the threshold.\n",
        "\n",
        "\n",
        "\n"
      ]
    },
    {
      "cell_type": "code",
      "execution_count": 48,
      "metadata": {
        "id": "xZdufWN3ibnk"
      },
      "outputs": [],
      "source": [
        "df['splitted_rating'] = splitted_rating"
      ]
    },
    {
      "cell_type": "code",
      "execution_count": 49,
      "metadata": {
        "id": "gBZ-_BZQwOgr"
      },
      "outputs": [],
      "source": [
        "input_attr = 'Runtime (Minutes)'\n",
        "target_attr = 'splitted_rating'\n",
        "\n",
        "best_mi = 0\n",
        "best_threshold = None\n",
        "\n",
        "for threshold in df[input_attr].unique():\n",
        "    df['binary_input'] = np.where(df[input_attr] >= threshold, 1, 0)\n",
        "\n",
        "    mi = mutual_information(df, 'binary_input', target_attr)\n",
        "\n",
        "    if mi > best_mi:\n",
        "        best_mi = mi\n",
        "        best_threshold = threshold"
      ]
    },
    {
      "cell_type": "code",
      "execution_count": 50,
      "metadata": {
        "colab": {
          "base_uri": "https://localhost:8080/"
        },
        "id": "RyhOSlnli-HE",
        "outputId": "7ad20f50-b968-4241-8a0f-ca7fc58384cd"
      },
      "outputs": [
        {
          "name": "stdout",
          "output_type": "stream",
          "text": [
            "Best threshold value: 116\n",
            "Mutual information: 0.06823575966085552\n"
          ]
        }
      ],
      "source": [
        "print(f\"Best threshold value: {best_threshold}\")\n",
        "print(f\"Mutual information: {best_mi}\")"
      ]
    },
    {
      "cell_type": "markdown",
      "metadata": {
        "id": "4l9dXdbAruRs"
      },
      "source": [
        "## Task 5:\n",
        "Convert the notebook into html:\n",
        "\n",
        "\n",
        "1.   Download the notebook by clicking the File tab\n",
        "2.   Upload it to this environment\n",
        "3.   Run the command:"
      ]
    },
    {
      "cell_type": "code",
      "execution_count": null,
      "metadata": {
        "colab": {
          "base_uri": "https://localhost:8080/",
          "height": 1000
        },
        "id": "Ayr8yu13ru15",
        "outputId": "c8313b6d-8351-4365-fee5-c2ed9f096fe6"
      },
      "outputs": [
        {
          "name": "stdout",
          "output_type": "stream",
          "text": [
            "[NbConvertApp] WARNING | pattern 'Lab4.ipynb' matched no files\n",
            "This application is used to convert notebook files (*.ipynb)\n",
            "        to various other formats.\n",
            "\n",
            "        WARNING: THE COMMANDLINE INTERFACE MAY CHANGE IN FUTURE RELEASES.\n",
            "\n",
            "Options\n",
            "=======\n",
            "The options below are convenience aliases to configurable class-options,\n",
            "as listed in the \"Equivalent to\" description-line of the aliases.\n",
            "To see all configurable class-options for some <cmd>, use:\n",
            "    <cmd> --help-all\n",
            "\n",
            "--debug\n",
            "    set log level to logging.DEBUG (maximize logging output)\n",
            "    Equivalent to: [--Application.log_level=10]\n",
            "--show-config\n",
            "    Show the application's configuration (human-readable format)\n",
            "    Equivalent to: [--Application.show_config=True]\n",
            "--show-config-json\n",
            "    Show the application's configuration (json format)\n",
            "    Equivalent to: [--Application.show_config_json=True]\n",
            "--generate-config\n",
            "    generate default config file\n",
            "    Equivalent to: [--JupyterApp.generate_config=True]\n",
            "-y\n",
            "    Answer yes to any questions instead of prompting.\n",
            "    Equivalent to: [--JupyterApp.answer_yes=True]\n",
            "--execute\n",
            "    Execute the notebook prior to export.\n",
            "    Equivalent to: [--ExecutePreprocessor.enabled=True]\n",
            "--allow-errors\n",
            "    Continue notebook execution even if one of the cells throws an error and include the error message in the cell output (the default behaviour is to abort conversion). This flag is only relevant if '--execute' was specified, too.\n",
            "    Equivalent to: [--ExecutePreprocessor.allow_errors=True]\n",
            "--stdin\n",
            "    read a single notebook file from stdin. Write the resulting notebook with default basename 'notebook.*'\n",
            "    Equivalent to: [--NbConvertApp.from_stdin=True]\n",
            "--stdout\n",
            "    Write notebook output to stdout instead of files.\n",
            "    Equivalent to: [--NbConvertApp.writer_class=StdoutWriter]\n",
            "--inplace\n",
            "    Run nbconvert in place, overwriting the existing notebook (only\n",
            "            relevant when converting to notebook format)\n",
            "    Equivalent to: [--NbConvertApp.use_output_suffix=False --NbConvertApp.export_format=notebook --FilesWriter.build_directory=]\n",
            "--clear-output\n",
            "    Clear output of current file and save in place,\n",
            "            overwriting the existing notebook.\n",
            "    Equivalent to: [--NbConvertApp.use_output_suffix=False --NbConvertApp.export_format=notebook --FilesWriter.build_directory= --ClearOutputPreprocessor.enabled=True]\n",
            "--no-prompt\n",
            "    Exclude input and output prompts from converted document.\n",
            "    Equivalent to: [--TemplateExporter.exclude_input_prompt=True --TemplateExporter.exclude_output_prompt=True]\n",
            "--no-input\n",
            "    Exclude input cells and output prompts from converted document.\n",
            "            This mode is ideal for generating code-free reports.\n",
            "    Equivalent to: [--TemplateExporter.exclude_output_prompt=True --TemplateExporter.exclude_input=True --TemplateExporter.exclude_input_prompt=True]\n",
            "--allow-chromium-download\n",
            "    Whether to allow downloading chromium if no suitable version is found on the system.\n",
            "    Equivalent to: [--WebPDFExporter.allow_chromium_download=True]\n",
            "--disable-chromium-sandbox\n",
            "    Disable chromium security sandbox when converting to PDF..\n",
            "    Equivalent to: [--WebPDFExporter.disable_sandbox=True]\n",
            "--show-input\n",
            "    Shows code input. This flag is only useful for dejavu users.\n",
            "    Equivalent to: [--TemplateExporter.exclude_input=False]\n",
            "--embed-images\n",
            "    Embed the images as base64 dataurls in the output. This flag is only useful for the HTML/WebPDF/Slides exports.\n",
            "    Equivalent to: [--HTMLExporter.embed_images=True]\n",
            "--sanitize-html\n",
            "    Whether the HTML in Markdown cells and cell outputs should be sanitized..\n",
            "    Equivalent to: [--HTMLExporter.sanitize_html=True]\n",
            "--log-level=<Enum>\n",
            "    Set the log level by value or name.\n",
            "    Choices: any of [0, 10, 20, 30, 40, 50, 'DEBUG', 'INFO', 'WARN', 'ERROR', 'CRITICAL']\n",
            "    Default: 30\n",
            "    Equivalent to: [--Application.log_level]\n",
            "--config=<Unicode>\n",
            "    Full path of a config file.\n",
            "    Default: ''\n",
            "    Equivalent to: [--JupyterApp.config_file]\n",
            "--to=<Unicode>\n",
            "    The export format to be used, either one of the built-in formats\n",
            "            ['asciidoc', 'custom', 'html', 'latex', 'markdown', 'notebook', 'pdf', 'python', 'rst', 'script', 'slides', 'webpdf']\n",
            "            or a dotted object name that represents the import path for an\n",
            "            ``Exporter`` class\n",
            "    Default: ''\n",
            "    Equivalent to: [--NbConvertApp.export_format]\n",
            "--template=<Unicode>\n",
            "    Name of the template to use\n",
            "    Default: ''\n",
            "    Equivalent to: [--TemplateExporter.template_name]\n",
            "--template-file=<Unicode>\n",
            "    Name of the template file to use\n",
            "    Default: None\n",
            "    Equivalent to: [--TemplateExporter.template_file]\n",
            "--theme=<Unicode>\n",
            "    Template specific theme(e.g. the name of a JupyterLab CSS theme distributed\n",
            "    as prebuilt extension for the lab template)\n",
            "    Default: 'light'\n",
            "    Equivalent to: [--HTMLExporter.theme]\n",
            "--sanitize_html=<Bool>\n",
            "    Whether the HTML in Markdown cells and cell outputs should be sanitized.This\n",
            "    should be set to True by nbviewer or similar tools.\n",
            "    Default: False\n",
            "    Equivalent to: [--HTMLExporter.sanitize_html]\n",
            "--writer=<DottedObjectName>\n",
            "    Writer class used to write the\n",
            "                                        results of the conversion\n",
            "    Default: 'FilesWriter'\n",
            "    Equivalent to: [--NbConvertApp.writer_class]\n",
            "--post=<DottedOrNone>\n",
            "    PostProcessor class used to write the\n",
            "                                        results of the conversion\n",
            "    Default: ''\n",
            "    Equivalent to: [--NbConvertApp.postprocessor_class]\n",
            "--output=<Unicode>\n",
            "    overwrite base name use for output files.\n",
            "                can only be used when converting one notebook at a time.\n",
            "    Default: ''\n",
            "    Equivalent to: [--NbConvertApp.output_base]\n",
            "--output-dir=<Unicode>\n",
            "    Directory to write output(s) to. Defaults\n",
            "                                  to output to the directory of each notebook. To recover\n",
            "                                  previous default behaviour (outputting to the current\n",
            "                                  working directory) use . as the flag value.\n",
            "    Default: ''\n",
            "    Equivalent to: [--FilesWriter.build_directory]\n",
            "--reveal-prefix=<Unicode>\n",
            "    The URL prefix for reveal.js (version 3.x).\n",
            "            This defaults to the reveal CDN, but can be any url pointing to a copy\n",
            "            of reveal.js.\n",
            "            For speaker notes to work, this must be a relative path to a local\n",
            "            copy of reveal.js: e.g., \"reveal.js\".\n",
            "            If a relative path is given, it must be a subdirectory of the\n",
            "            current directory (from which the server is run).\n",
            "            See the usage documentation\n",
            "            (https://nbconvert.readthedocs.io/en/latest/usage.html#reveal-js-html-slideshow)\n",
            "            for more details.\n",
            "    Default: ''\n",
            "    Equivalent to: [--SlidesExporter.reveal_url_prefix]\n",
            "--nbformat=<Enum>\n",
            "    The nbformat version to write.\n",
            "            Use this to downgrade notebooks.\n",
            "    Choices: any of [1, 2, 3, 4]\n",
            "    Default: 4\n",
            "    Equivalent to: [--NotebookExporter.nbformat_version]\n",
            "\n",
            "Examples\n",
            "--------\n",
            "\n",
            "    The simplest way to use nbconvert is\n",
            "\n",
            "            > jupyter nbconvert mynotebook.ipynb --to html\n",
            "\n",
            "            Options include ['asciidoc', 'custom', 'html', 'latex', 'markdown', 'notebook', 'pdf', 'python', 'rst', 'script', 'slides', 'webpdf'].\n",
            "\n",
            "            > jupyter nbconvert --to latex mynotebook.ipynb\n",
            "\n",
            "            Both HTML and LaTeX support multiple output templates. LaTeX includes\n",
            "            'base', 'article' and 'report'.  HTML includes 'basic', 'lab' and\n",
            "            'classic'. You can specify the flavor of the format used.\n",
            "\n",
            "            > jupyter nbconvert --to html --template lab mynotebook.ipynb\n",
            "\n",
            "            You can also pipe the output to stdout, rather than a file\n",
            "\n",
            "            > jupyter nbconvert mynotebook.ipynb --stdout\n",
            "\n",
            "            PDF is generated via latex\n",
            "\n",
            "            > jupyter nbconvert mynotebook.ipynb --to pdf\n",
            "\n",
            "            You can get (and serve) a Reveal.js-powered slideshow\n",
            "\n",
            "            > jupyter nbconvert myslides.ipynb --to slides --post serve\n",
            "\n",
            "            Multiple notebooks can be given at the command line in a couple of\n",
            "            different ways:\n",
            "\n",
            "            > jupyter nbconvert notebook*.ipynb\n",
            "            > jupyter nbconvert notebook1.ipynb notebook2.ipynb\n",
            "\n",
            "            or you can specify the notebooks list in a config file, containing::\n",
            "\n",
            "                c.NbConvertApp.notebooks = [\"my_notebook.ipynb\"]\n",
            "\n",
            "            > jupyter nbconvert --config mycfg.py\n",
            "\n",
            "To see all available configurables, use `--help-all`.\n",
            "\n"
          ]
        },
        {
          "ename": "CalledProcessError",
          "evalue": "ignored",
          "output_type": "error",
          "traceback": [
            "\u001b[0;31m---------------------------------------------------------------------------\u001b[0m",
            "\u001b[0;31mCalledProcessError\u001b[0m                        Traceback (most recent call last)",
            "\u001b[0;32m<ipython-input-10-b7b40ad4312e>\u001b[0m in \u001b[0;36m<cell line: 1>\u001b[0;34m()\u001b[0m\n\u001b[0;32m----> 1\u001b[0;31m \u001b[0mget_ipython\u001b[0m\u001b[0;34m(\u001b[0m\u001b[0;34m)\u001b[0m\u001b[0;34m.\u001b[0m\u001b[0mrun_cell_magic\u001b[0m\u001b[0;34m(\u001b[0m\u001b[0;34m'shell'\u001b[0m\u001b[0;34m,\u001b[0m \u001b[0;34m''\u001b[0m\u001b[0;34m,\u001b[0m \u001b[0;34m'jupyter nbconvert --to html Lab4.ipynb\\n'\u001b[0m\u001b[0;34m)\u001b[0m\u001b[0;34m\u001b[0m\u001b[0;34m\u001b[0m\u001b[0m\n\u001b[0m",
            "\u001b[0;32m/usr/local/lib/python3.9/dist-packages/google/colab/_shell.py\u001b[0m in \u001b[0;36mrun_cell_magic\u001b[0;34m(self, magic_name, line, cell)\u001b[0m\n\u001b[1;32m    331\u001b[0m     \u001b[0;32mif\u001b[0m \u001b[0mline\u001b[0m \u001b[0;32mand\u001b[0m \u001b[0;32mnot\u001b[0m \u001b[0mcell\u001b[0m\u001b[0;34m:\u001b[0m\u001b[0;34m\u001b[0m\u001b[0;34m\u001b[0m\u001b[0m\n\u001b[1;32m    332\u001b[0m       \u001b[0mcell\u001b[0m \u001b[0;34m=\u001b[0m \u001b[0;34m' '\u001b[0m\u001b[0;34m\u001b[0m\u001b[0;34m\u001b[0m\u001b[0m\n\u001b[0;32m--> 333\u001b[0;31m     \u001b[0;32mreturn\u001b[0m \u001b[0msuper\u001b[0m\u001b[0;34m(\u001b[0m\u001b[0;34m)\u001b[0m\u001b[0;34m.\u001b[0m\u001b[0mrun_cell_magic\u001b[0m\u001b[0;34m(\u001b[0m\u001b[0mmagic_name\u001b[0m\u001b[0;34m,\u001b[0m \u001b[0mline\u001b[0m\u001b[0;34m,\u001b[0m \u001b[0mcell\u001b[0m\u001b[0;34m)\u001b[0m\u001b[0;34m\u001b[0m\u001b[0;34m\u001b[0m\u001b[0m\n\u001b[0m\u001b[1;32m    334\u001b[0m \u001b[0;34m\u001b[0m\u001b[0m\n\u001b[1;32m    335\u001b[0m \u001b[0;34m\u001b[0m\u001b[0m\n",
            "\u001b[0;32m/usr/local/lib/python3.9/dist-packages/IPython/core/interactiveshell.py\u001b[0m in \u001b[0;36mrun_cell_magic\u001b[0;34m(self, magic_name, line, cell)\u001b[0m\n\u001b[1;32m   2471\u001b[0m             \u001b[0;32mwith\u001b[0m \u001b[0mself\u001b[0m\u001b[0;34m.\u001b[0m\u001b[0mbuiltin_trap\u001b[0m\u001b[0;34m:\u001b[0m\u001b[0;34m\u001b[0m\u001b[0;34m\u001b[0m\u001b[0m\n\u001b[1;32m   2472\u001b[0m                 \u001b[0margs\u001b[0m \u001b[0;34m=\u001b[0m \u001b[0;34m(\u001b[0m\u001b[0mmagic_arg_s\u001b[0m\u001b[0;34m,\u001b[0m \u001b[0mcell\u001b[0m\u001b[0;34m)\u001b[0m\u001b[0;34m\u001b[0m\u001b[0;34m\u001b[0m\u001b[0m\n\u001b[0;32m-> 2473\u001b[0;31m                 \u001b[0mresult\u001b[0m \u001b[0;34m=\u001b[0m \u001b[0mfn\u001b[0m\u001b[0;34m(\u001b[0m\u001b[0;34m*\u001b[0m\u001b[0margs\u001b[0m\u001b[0;34m,\u001b[0m \u001b[0;34m**\u001b[0m\u001b[0mkwargs\u001b[0m\u001b[0;34m)\u001b[0m\u001b[0;34m\u001b[0m\u001b[0;34m\u001b[0m\u001b[0m\n\u001b[0m\u001b[1;32m   2474\u001b[0m             \u001b[0;32mreturn\u001b[0m \u001b[0mresult\u001b[0m\u001b[0;34m\u001b[0m\u001b[0;34m\u001b[0m\u001b[0m\n\u001b[1;32m   2475\u001b[0m \u001b[0;34m\u001b[0m\u001b[0m\n",
            "\u001b[0;32m/usr/local/lib/python3.9/dist-packages/google/colab/_system_commands.py\u001b[0m in \u001b[0;36m_shell_cell_magic\u001b[0;34m(args, cmd)\u001b[0m\n\u001b[1;32m    110\u001b[0m   \u001b[0mresult\u001b[0m \u001b[0;34m=\u001b[0m \u001b[0m_run_command\u001b[0m\u001b[0;34m(\u001b[0m\u001b[0mcmd\u001b[0m\u001b[0;34m,\u001b[0m \u001b[0mclear_streamed_output\u001b[0m\u001b[0;34m=\u001b[0m\u001b[0;32mFalse\u001b[0m\u001b[0;34m)\u001b[0m\u001b[0;34m\u001b[0m\u001b[0;34m\u001b[0m\u001b[0m\n\u001b[1;32m    111\u001b[0m   \u001b[0;32mif\u001b[0m \u001b[0;32mnot\u001b[0m \u001b[0mparsed_args\u001b[0m\u001b[0;34m.\u001b[0m\u001b[0mignore_errors\u001b[0m\u001b[0;34m:\u001b[0m\u001b[0;34m\u001b[0m\u001b[0;34m\u001b[0m\u001b[0m\n\u001b[0;32m--> 112\u001b[0;31m     \u001b[0mresult\u001b[0m\u001b[0;34m.\u001b[0m\u001b[0mcheck_returncode\u001b[0m\u001b[0;34m(\u001b[0m\u001b[0;34m)\u001b[0m\u001b[0;34m\u001b[0m\u001b[0;34m\u001b[0m\u001b[0m\n\u001b[0m\u001b[1;32m    113\u001b[0m   \u001b[0;32mreturn\u001b[0m \u001b[0mresult\u001b[0m\u001b[0;34m\u001b[0m\u001b[0;34m\u001b[0m\u001b[0m\n\u001b[1;32m    114\u001b[0m \u001b[0;34m\u001b[0m\u001b[0m\n",
            "\u001b[0;32m/usr/local/lib/python3.9/dist-packages/google/colab/_system_commands.py\u001b[0m in \u001b[0;36mcheck_returncode\u001b[0;34m(self)\u001b[0m\n\u001b[1;32m    135\u001b[0m   \u001b[0;32mdef\u001b[0m \u001b[0mcheck_returncode\u001b[0m\u001b[0;34m(\u001b[0m\u001b[0mself\u001b[0m\u001b[0;34m)\u001b[0m\u001b[0;34m:\u001b[0m\u001b[0;34m\u001b[0m\u001b[0;34m\u001b[0m\u001b[0m\n\u001b[1;32m    136\u001b[0m     \u001b[0;32mif\u001b[0m \u001b[0mself\u001b[0m\u001b[0;34m.\u001b[0m\u001b[0mreturncode\u001b[0m\u001b[0;34m:\u001b[0m\u001b[0;34m\u001b[0m\u001b[0;34m\u001b[0m\u001b[0m\n\u001b[0;32m--> 137\u001b[0;31m       raise subprocess.CalledProcessError(\n\u001b[0m\u001b[1;32m    138\u001b[0m           \u001b[0mreturncode\u001b[0m\u001b[0;34m=\u001b[0m\u001b[0mself\u001b[0m\u001b[0;34m.\u001b[0m\u001b[0mreturncode\u001b[0m\u001b[0;34m,\u001b[0m \u001b[0mcmd\u001b[0m\u001b[0;34m=\u001b[0m\u001b[0mself\u001b[0m\u001b[0;34m.\u001b[0m\u001b[0margs\u001b[0m\u001b[0;34m,\u001b[0m \u001b[0moutput\u001b[0m\u001b[0;34m=\u001b[0m\u001b[0mself\u001b[0m\u001b[0;34m.\u001b[0m\u001b[0moutput\u001b[0m\u001b[0;34m\u001b[0m\u001b[0;34m\u001b[0m\u001b[0m\n\u001b[1;32m    139\u001b[0m       )\n",
            "\u001b[0;31mCalledProcessError\u001b[0m: Command 'jupyter nbconvert --to html Lab4.ipynb\n' returned non-zero exit status 255."
          ]
        }
      ],
      "source": [
        "%%shell\n",
        "jupyter nbconvert --to html Lab4.ipynb"
      ]
    }
  ],
  "metadata": {
    "colab": {
      "provenance": []
    },
    "kernelspec": {
      "display_name": "Python 3",
      "name": "python3"
    },
    "language_info": {
      "name": "python"
    }
  },
  "nbformat": 4,
  "nbformat_minor": 0
}
